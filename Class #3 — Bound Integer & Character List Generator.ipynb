{
 "cells": [
  {
   "cell_type": "markdown",
   "metadata": {},
   "source": [
    "# Class #3\n",
    "\n",
    "This time we'll build a natural number generator and an ASCII character generator."
   ]
  },
  {
   "cell_type": "markdown",
   "metadata": {},
   "source": [
    "---"
   ]
  },
  {
   "cell_type": "markdown",
   "metadata": {},
   "source": [
    "## Using Caffeine\n",
    "\n",
    "This is the only way I've found to use a library that's not in the Elixir core:\n",
    "we navigate to the directory and then load the module."
   ]
  },
  {
   "cell_type": "code",
   "execution_count": 1,
   "metadata": {
    "collapsed": false
   },
   "outputs": [
    {
     "data": {
      "text/plain": [
       "false"
      ]
     },
     "execution_count": 1,
     "metadata": {},
     "output_type": "execute_result"
    }
   ],
   "source": [
    "File.cwd!() =~ \"project/caffeine\""
   ]
  },
  {
   "cell_type": "code",
   "execution_count": null,
   "metadata": {
    "collapsed": false
   },
   "outputs": [],
   "source": [
    "cd(\"~/project/caffeine\")"
   ]
  },
  {
   "cell_type": "code",
   "execution_count": 3,
   "metadata": {
    "collapsed": false
   },
   "outputs": [
    {
     "data": {
      "text/plain": [
       "true"
      ]
     },
     "execution_count": 3,
     "metadata": {},
     "output_type": "execute_result"
    }
   ],
   "source": [
    "File.cwd!() =~ \"project/caffeine\""
   ]
  },
  {
   "cell_type": "code",
   "execution_count": 4,
   "metadata": {
    "collapsed": false
   },
   "outputs": [
    {
     "data": {
      "text/plain": [
       "[{Caffeine.Element, <<70, 79, 82, 49, 0, 0, 3, 208, 66, 69, 65, 77, 65, 116, 85, 56, 0, 0, 0, 130, 0, 0, 0, 12, 23, 69, 108, 105, 120, 105, 114, 46, 67, 97, 102, 102, 101, 105, 110, 101, 46, 69, 108, 101, 109, 101, 110, ...>>}, {Caffeine.Stream, <<70, 79, 82, 49, 0, 0, 17, 240, 66, 69, 65, 77, 65, 116, 85, 56, 0, 0, 1, 19, 0, 0, 0, 31, 22, 69, 108, 105, 120, 105, 114, 46, 67, 97, 102, 102, 101, 105, 110, 101, 46, 83, 116, 114, 101, 97, ...>>}, {Caffeine, <<70, 79, 82, 49, 0, 0, 3, 220, 66, 69, 65, 77, 65, 116, 85, 56, 0, 0, 0, 122, 0, 0, 0, 12, 15, 69, 108, 105, 120, 105, 114, 46, 67, 97, 102, 102, 101, 105, 110, 101, 8, 95, 95, 105, 110, ...>>}]"
      ]
     },
     "execution_count": 4,
     "metadata": {},
     "output_type": "execute_result"
    }
   ],
   "source": [
    "Code.load_file(\"lib/caffeine.ex\")"
   ]
  },
  {
   "cell_type": "markdown",
   "metadata": {},
   "source": [
    "Once we have Caffeine ready to use we change our definition of the LCG from last time to use Caffeine instead of the improvised stream we'd built (see the `stream/2` function). The `LCG.MMIX` module and the expressions imediately following are borrowed from last time."
   ]
  },
  {
   "cell_type": "code",
   "execution_count": 5,
   "metadata": {
    "collapsed": false
   },
   "outputs": [
    {
     "data": {
      "text/plain": [
       "{:module, LCG, <<70, 79, 82, 49, 0, 0, 8, 56, 66, 69, 65, 77, 65, 116, 85, 56, 0, 0, 1, 27, 0, 0, 0, 28, 10, 69, 108, 105, 120, 105, 114, 46, 76, 67, 71, 8, 95, 95, 105, 110, 102, 111, 95, 95, 9, 102, 117, ...>>, {:stream, 2}}"
      ]
     },
     "execution_count": 5,
     "metadata": {},
     "output_type": "execute_result"
    }
   ],
   "source": [
    "defmodule LCG do\n",
    "  defmodule Parameters do\n",
    "    defstruct [\n",
    "      modulus:    9,\n",
    "      multiplier: 2,\n",
    "      increment:  0\n",
    "    ]\n",
    "\n",
    "    def okay?(p) do\n",
    "      m = p.modulus\n",
    "      a = p.multiplier\n",
    "      c = p.increment\n",
    "      \n",
    "      x = 0 < m\n",
    "      y = (0 < a and a < m)\n",
    "      z = (0 <= c and c < m)\n",
    "\n",
    "      x and y and z\n",
    "    end\n",
    "  end\n",
    "\n",
    "  def instance(p) do\n",
    "    m = p.modulus; a = p.multiplier; c = p.increment\n",
    "    fn s when 0 <= s and s < m ->\n",
    "      Integer.mod(a * s + c, m)\n",
    "    end\n",
    "  end\n",
    "\n",
    "  def stream(seed, generator) do\n",
    "    f = fn ->\n",
    "      stream(generator.(seed), generator)\n",
    "    end\n",
    "    Caffeine.Stream.construct(seed, f)\n",
    "  end\n",
    "end"
   ]
  },
  {
   "cell_type": "code",
   "execution_count": 6,
   "metadata": {
    "collapsed": false
   },
   "outputs": [
    {
     "data": {
      "text/plain": [
       "{:module, LCG.MMIX, <<70, 79, 82, 49, 0, 0, 5, 160, 66, 69, 65, 77, 65, 116, 85, 56, 0, 0, 0, 175, 0, 0, 0, 17, 15, 69, 108, 105, 120, 105, 114, 46, 76, 67, 71, 46, 77, 77, 73, 88, 8, 95, 95, 105, 110, 102, 111, ...>>, {:instance, 0}}"
      ]
     },
     "execution_count": 6,
     "metadata": {},
     "output_type": "execute_result"
    }
   ],
   "source": [
    "defmodule LCG.MMIX do\n",
    "  def instance do\n",
    "    x = %LCG.Parameters{\n",
    "      modulus:    round(:math.pow(2, 64)),\n",
    "      multiplier: 6364136223846793005,\n",
    "      increment:  1442695040888963407\n",
    "    }\n",
    "    true = LCG.Parameters.okay?(x)\n",
    "    LCG.instance(x)\n",
    "  end\n",
    "end"
   ]
  },
  {
   "cell_type": "code",
   "execution_count": 7,
   "metadata": {
    "collapsed": false
   },
   "outputs": [
    {
     "data": {
      "text/plain": [
       "#Function<0.36907607/1 in LCG.instance/1>"
      ]
     },
     "execution_count": 7,
     "metadata": {},
     "output_type": "execute_result"
    }
   ],
   "source": [
    "m = LCG.MMIX.instance()"
   ]
  },
  {
   "cell_type": "code",
   "execution_count": 8,
   "metadata": {
    "collapsed": false
   },
   "outputs": [
    {
     "data": {
      "text/plain": [
       "[1, 7806831264735756412, 9396908728118811419, 11960119808228829710, 7062582979898595269, 14673421054488193520, 9232803539723513983, 10218303843513747618, 1206773305466921929]"
      ]
     },
     "execution_count": 8,
     "metadata": {},
     "output_type": "execute_result"
    }
   ],
   "source": [
    "Caffeine.Stream.take(LCG.stream(1, m), 9)"
   ]
  },
  {
   "cell_type": "markdown",
   "metadata": {},
   "source": [
    "The LCG stream imposes on us large natural numbers. We have to build a way to work with them so that we can build data generators that are reasonable. I.e. we don't want to generate lists that are 7806831264735756412 elements long."
   ]
  },
  {
   "cell_type": "code",
   "execution_count": 9,
   "metadata": {
    "collapsed": false
   },
   "outputs": [
    {
     "data": {
      "text/plain": [
       "{:module, Generator.BoundNatural, <<70, 79, 82, 49, 0, 0, 6, 36, 66, 69, 65, 77, 65, 116, 85, 56, 0, 0, 0, 247, 0, 0, 0, 22, 29, 69, 108, 105, 120, 105, 114, 46, 71, 101, 110, 101, 114, 97, 116, 111, 114, 46, 66, 111, 117, 110, 100, ...>>, {:limit, 1}}"
      ]
     },
     "execution_count": 9,
     "metadata": {},
     "output_type": "execute_result"
    }
   ],
   "source": [
    "defmodule Generator.BoundNatural do\n",
    "  def stream(limit: i) do\n",
    "    s = LCG.stream(1, LCG.MMIX.instance())\n",
    "    Caffeine.Stream.map(s, limit(i))\n",
    "  end\n",
    "\n",
    "  defp limit(i) do\n",
    "    fn x ->\n",
    "      Integer.mod(x, i)\n",
    "    end\n",
    "  end\n",
    "end"
   ]
  },
  {
   "cell_type": "code",
   "execution_count": 10,
   "metadata": {
    "collapsed": false
   },
   "outputs": [
    {
     "data": {
      "text/plain": [
       "[1, 12, 19, 10, 69, 20, 83, 18, 29, 44, 31, 54, 93, 48, 55, 58, 17, 52, 83, 46, 25, 24, 39, 46, 21, 48, 35, 86, 25, 48, 39, 38, 29, 72, 79, 38, 89, 28, 19, 78, 33, 48, 27, 22, 37, 76, 83, 98, 5, 28, ...]"
      ]
     },
     "execution_count": 10,
     "metadata": {},
     "output_type": "execute_result"
    }
   ],
   "source": [
    "x = Caffeine.Stream.take(Generator.BoundNatural.stream(limit: 100), 100)"
   ]
  },
  {
   "cell_type": "markdown",
   "metadata": {},
   "source": [
    "Let's test that our distribution of _small_ natural numbers is uniform."
   ]
  },
  {
   "cell_type": "code",
   "execution_count": 11,
   "metadata": {
    "collapsed": false
   },
   "outputs": [
    {
     "data": {
      "text/plain": [
       "47"
      ]
     },
     "execution_count": 11,
     "metadata": {},
     "output_type": "execute_result"
    }
   ],
   "source": [
    "Enum.count(x, fn x -> x >= 50 end)"
   ]
  },
  {
   "cell_type": "markdown",
   "metadata": {},
   "source": [
    "There's more than one way to write a stream of cube numbers (and other streams):\n",
    "1. `Cube.V1` uses the primitives in Caffeine (like `construct/2`) and increments a counter\n",
    "2. `Cube.V2` does away with the counter by `map`ing over the `Natural` stream"
   ]
  },
  {
   "cell_type": "code",
   "execution_count": 12,
   "metadata": {
    "collapsed": false
   },
   "outputs": [
    {
     "data": {
      "text/plain": [
       "{:module, Cube.V1, <<70, 79, 82, 49, 0, 0, 5, 204, 66, 69, 65, 77, 65, 116, 85, 56, 0, 0, 0, 187, 0, 0, 0, 19, 14, 69, 108, 105, 120, 105, 114, 46, 67, 117, 98, 101, 46, 86, 49, 8, 95, 95, 105, 110, 102, 111, 95, ...>>, {:cube, 1}}"
      ]
     },
     "execution_count": 12,
     "metadata": {},
     "output_type": "execute_result"
    }
   ],
   "source": [
    "defmodule Cube.V1 do\n",
    "  def stream do\n",
    "    stream(0)\n",
    "  end\n",
    "\n",
    "  defp stream(x) do\n",
    "    f = fn ->\n",
    "      stream(x + 1)\n",
    "    end\n",
    "    Caffeine.Stream.construct(cube(x), f)\n",
    "  end\n",
    "\n",
    "  defp cube(x) do\n",
    "    x * x * x\n",
    "  end\n",
    "end"
   ]
  },
  {
   "cell_type": "code",
   "execution_count": 13,
   "metadata": {
    "collapsed": false
   },
   "outputs": [
    {
     "data": {
      "text/plain": [
       "[0, 1, 8, 27, 64, 125, 216]"
      ]
     },
     "execution_count": 13,
     "metadata": {},
     "output_type": "execute_result"
    }
   ],
   "source": [
    "Caffeine.Stream.take(Cube.V1.stream(), 7)"
   ]
  },
  {
   "cell_type": "code",
   "execution_count": 14,
   "metadata": {
    "collapsed": false
   },
   "outputs": [
    {
     "data": {
      "text/plain": [
       "{:module, Natural, <<70, 79, 82, 49, 0, 0, 5, 84, 66, 69, 65, 77, 65, 116, 85, 56, 0, 0, 0, 180, 0, 0, 0, 17, 14, 69, 108, 105, 120, 105, 114, 46, 78, 97, 116, 117, 114, 97, 108, 8, 95, 95, 105, 110, 102, 111, 95, ...>>, {:stream, 1}}"
      ]
     },
     "execution_count": 14,
     "metadata": {},
     "output_type": "execute_result"
    }
   ],
   "source": [
    "defmodule Natural do\n",
    "  def stream do\n",
    "    stream(0)\n",
    "  end\n",
    "\n",
    "  defp stream(x) do\n",
    "    f = fn ->\n",
    "      stream(x + 1)\n",
    "    end\n",
    "    Caffeine.Stream.construct(x, f)\n",
    "  end\n",
    "end"
   ]
  },
  {
   "cell_type": "code",
   "execution_count": 15,
   "metadata": {
    "collapsed": false
   },
   "outputs": [
    {
     "data": {
      "text/plain": [
       "[0, 1, 2, 3, 4, 5, 6]"
      ]
     },
     "execution_count": 15,
     "metadata": {},
     "output_type": "execute_result"
    }
   ],
   "source": [
    "Caffeine.Stream.take(Natural.stream(), 7)"
   ]
  },
  {
   "cell_type": "code",
   "execution_count": 16,
   "metadata": {
    "collapsed": false
   },
   "outputs": [
    {
     "data": {
      "text/plain": [
       "{:module, Cube.V2, <<70, 79, 82, 49, 0, 0, 5, 100, 66, 69, 65, 77, 65, 116, 85, 56, 0, 0, 0, 194, 0, 0, 0, 19, 14, 69, 108, 105, 120, 105, 114, 46, 67, 117, 98, 101, 46, 86, 50, 8, 95, 95, 105, 110, 102, 111, 95, ...>>, {:cube, 1}}"
      ]
     },
     "execution_count": 16,
     "metadata": {},
     "output_type": "execute_result"
    }
   ],
   "source": [
    "defmodule Cube.V2 do\n",
    "  def stream do\n",
    "    Caffeine.Stream.map(Natural.stream(), &cube/1)\n",
    "  end\n",
    "\n",
    "  defp cube(x) do\n",
    "    x * x * x\n",
    "  end\n",
    "end"
   ]
  },
  {
   "cell_type": "code",
   "execution_count": 17,
   "metadata": {
    "collapsed": false
   },
   "outputs": [
    {
     "data": {
      "text/plain": [
       "[0, 1, 8, 27, 64]"
      ]
     },
     "execution_count": 17,
     "metadata": {},
     "output_type": "execute_result"
    }
   ],
   "source": [
    "Caffeine.Stream.take(Cube.V2.stream(), 5)"
   ]
  },
  {
   "cell_type": "markdown",
   "metadata": {},
   "source": [
    "This is **one** way to write a generator for printable ASCII characters."
   ]
  },
  {
   "cell_type": "code",
   "execution_count": 18,
   "metadata": {
    "collapsed": false
   },
   "outputs": [
    {
     "data": {
      "text/plain": [
       "{:module, Generator.Character.PrintableASCII, <<70, 79, 82, 49, 0, 0, 6, 164, 66, 69, 65, 77, 65, 116, 85, 56, 0, 0, 1, 14, 0, 0, 0, 23, 41, 69, 108, 105, 120, 105, 114, 46, 71, 101, 110, 101, 114, 97, 116, 111, 114, 46, 67, 104, 97, 114, 97, ...>>, {:upper_bound, 0}}"
      ]
     },
     "execution_count": 18,
     "metadata": {},
     "output_type": "execute_result"
    }
   ],
   "source": [
    "defmodule Generator.Character.PrintableASCII do\n",
    "  def stream do\n",
    "    f = fn (x) ->\n",
    "      lower_bound() + x\n",
    "    end\n",
    "    Caffeine.Stream.map(Generator.BoundNatural.stream(limit: length()), f)\n",
    "  end\n",
    "\n",
    "  defp length do\n",
    "    upper_bound - lower_bound\n",
    "  end\n",
    "\n",
    "  defp lower_bound do\n",
    "    ?\\s\n",
    "  end\n",
    "\n",
    "  defp upper_bound do\n",
    "    ?~\n",
    "  end\n",
    "end"
   ]
  },
  {
   "cell_type": "code",
   "execution_count": 19,
   "metadata": {
    "collapsed": false
   },
   "outputs": [
    {
     "data": {
      "text/plain": [
       "'!he@E@?l{$w@7$O:!2[:-LIBG@[&!^7:gp]f% W4S8qjgve,s@#$}vul?B;(GLGZ_J9Ha>!B%8#T]6q^iD[hY\"kJM\\\\-8u4?,'"
      ]
     },
     "execution_count": 19,
     "metadata": {},
     "output_type": "execute_result"
    }
   ],
   "source": [
    "Caffeine.Stream.take(Generator.Character.PrintableASCII.stream(), 96)"
   ]
  },
  {
   "cell_type": "markdown",
   "metadata": {},
   "source": [
    "**One** way to write a generator for (ASCII) character lists."
   ]
  },
  {
   "cell_type": "code",
   "execution_count": 20,
   "metadata": {
    "collapsed": false
   },
   "outputs": [
    {
     "data": {
      "text/plain": [
       "{:module, Generator.CharacterList, <<70, 79, 82, 49, 0, 0, 8, 124, 66, 69, 65, 77, 65, 116, 85, 56, 0, 0, 1, 50, 0, 0, 0, 26, 30, 69, 108, 105, 120, 105, 114, 46, 71, 101, 110, 101, 114, 97, 116, 111, 114, 46, 67, 104, 97, 114, 97, ...>>, {:rest, 2}}"
      ]
     },
     "execution_count": 20,
     "metadata": {},
     "output_type": "execute_result"
    }
   ],
   "source": [
    "defmodule Generator.CharacterList do\n",
    "  alias Generator.BoundNatural\n",
    "  alias Generator.Character.PrintableASCII\n",
    "\n",
    "  def stream do\n",
    "    stream(length: BoundNatural.stream(limit: 100), fill: PrintableASCII.stream())\n",
    "  end\n",
    "\n",
    "  defp stream(length: s, fill: r) do\n",
    "    {x, y} = split(r, Caffeine.Stream.head(s))\n",
    "    f = fn ->\n",
    "      stream(length: Caffeine.Stream.tail(s), fill: y)\n",
    "    end\n",
    "    Caffeine.Stream.construct(x, f)\n",
    "  end\n",
    "\n",
    "  defp split(s, i) do\n",
    "    {Caffeine.Stream.take(s, i), rest(s, i)}\n",
    "  end\n",
    "\n",
    "  defp rest(s, 0) do\n",
    "    s\n",
    "  end\n",
    "  defp rest(s, i) when i > 0 do\n",
    "    rest(Caffeine.Stream.tail(s), i - 1)\n",
    "  end\n",
    "end"
   ]
  },
  {
   "cell_type": "code",
   "execution_count": 21,
   "metadata": {
    "collapsed": false
   },
   "outputs": [
    {
     "data": {
      "text/plain": [
       "['!', 'he@E@?l{$w@7', '$O:!2[:-LIBG@[&!^7:', 'gp]f% W4S8', 'qjgve,s@#$}vul?B;(GLGZ_J9Ha>!B%8#T]6q^iD[hY\"kJM\\\\-8u4?,-J_:WV/L=Z]Pi$}', 'deD-.a>wR-@u\\\\O>/0c&I', 'tkh!h=rg2/N9r{81&}\"74=^IVK>#<;<mBar#:CnC0m\\\\?6GLeXs$%:c\\\\_XWrs^/,[0i|SJa<q6)|= c&sp) ', 'G2aJ?*#RsPS\"c0\\'RGR', 'KVSN\\'2i4!$SX;*7Re(/T{F-@]*ono', '`A&#$K8Q$kri\\\\Gp!hKHWZC6g6qb1v-L\\'j_.?v%XCLE*A']"
      ]
     },
     "execution_count": 21,
     "metadata": {},
     "output_type": "execute_result"
    }
   ],
   "source": [
    "x = Caffeine.Stream.take(Generator.CharacterList.stream(), 10)"
   ]
  },
  {
   "cell_type": "markdown",
   "metadata": {},
   "source": [
    "## Summary\n",
    "\n",
    "Some of the things we've seen:\n",
    "\n",
    "- Building streams with primitives (e.g. `Caffeine.Stream.{sentinel/0, construct/2}`\n",
    "- Building streams with HOFs (e.g. `Caffeine.Stream.{map/2, filter/2}`)\n",
    "- [Keyword lists](https://elixir-lang.org/getting-started/keywords-and-maps.html#keyword-lists):\n",
    "The `Rectangle` example in [Smalltalk's Wikipedia article](https://en.wikipedia.org/wiki/Smalltalk#Messages) motivates their use for clarity at call site.\n",
    "\n",
    "## Data Generators\n",
    "\n",
    "- Natural\n",
    "\n",
    "- Character\n",
    "\n",
    "- Integer\n",
    "\n",
    "- Float\n",
    "\n",
    "- Boolean and `nil`\n",
    "\n",
    "- List:\n",
    "\n",
    "  A homogeneously typed list (elements are of the same type).\n",
    "  API suggestion:\n",
    "  `List.stream(g)` where `g` is any other generator.\n",
    "  E.g. `List.stream(Integer.stream())` would build elements like `[1,8,0]`.\n",
    "\n",
    "\n",
    "- Character List\n",
    "\n",
    "- Pair (i.e. `[_|?]` where `?` isn't `[]`)\n",
    "\n",
    "- Binary\n",
    "\n",
    "- String\n",
    "\n",
    "- Tuple:\n",
    "\n",
    "  A heterogeneously typed tuple.\n",
    "  API suggestion:\n",
    "  `Tuple.stream(l)` where `l` is a list of generators.\n",
    "  E.g. if `l = [Integer.stream(), Float.stream(), String.stream()]` then the elements would look like `{5, 6.1, \"qwerty\"}`.\n",
    "\n",
    "\n",
    "- Record\n",
    "\n",
    "- Symbol/Atom\n",
    "\n",
    "- Map/Struct\n",
    "\n",
    "- Function:\n",
    "\n",
    "  This could be as simple as `Function.stream(arity: 0, return: Integer.stream())` with no restriction on the input parameters.\n",
    "  Let's restrict arity to 5.\n",
    "  E.g.:\n",
    "  ```Elixir\n",
    "  > f = head(Function.stream(arity: 1, return: String.stream()));\n",
    "  > f.(nil)\n",
    "  > \"qwerty\"\n",
    "  ```\n",
    "  \n",
    "- Term:\n",
    "\n",
    "  Every element produced by this generator is a value from a randomly selected generator.\n",
    "\n",
    "\n",
    "- Port, PID, and Ref\n"
   ]
  },
  {
   "cell_type": "code",
   "execution_count": null,
   "metadata": {
    "collapsed": true
   },
   "outputs": [],
   "source": []
  }
 ],
 "metadata": {
  "kernelspec": {
   "display_name": "Elixir",
   "language": "Elixir",
   "name": "ielixir"
  },
  "language_info": {
   "codemirror_mode": "elixir",
   "file_extension": "ex",
   "mimetype": "text/x-elixir",
   "name": "elixir",
   "nbconvert_exporter": "",
   "pygments_lexer": "elixir",
   "version": "#Version<1.6.2>"
  }
 },
 "nbformat": 4,
 "nbformat_minor": 1
}
