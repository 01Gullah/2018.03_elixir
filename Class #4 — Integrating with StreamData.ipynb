{
 "cells": [
  {
   "cell_type": "markdown",
   "metadata": {},
   "source": [
    "<font color=\"red\">This has **not** been revised (raw + not edited)! There may be material in here to help you integrate Jupyter, Elixir, and libraries but that's all. The narrative here isn't cohesive. Our integration w/ Elixir's Stream is terrible + should not be done this way but you might find parts of it instructive.</font>"
   ]
  },
  {
   "cell_type": "markdown",
   "metadata": {},
   "source": [
    "# Class #4\n",
    "\n",
    "We were going to integrate our generators with Elixir's Stream and StreamData"
   ]
  },
  {
   "cell_type": "markdown",
   "metadata": {},
   "source": [
    "---"
   ]
  },
  {
   "cell_type": "markdown",
   "metadata": {},
   "source": [
    "## Using Caffeine\n",
    "\n",
    "This is the only way I've found to use a library that's not in the Elixir core:\n",
    "we navigate to the directory and then load the module."
   ]
  },
  {
   "cell_type": "code",
   "execution_count": 1,
   "metadata": {
    "collapsed": false
   },
   "outputs": [
    {
     "data": {
      "text/plain": [
       "false"
      ]
     },
     "execution_count": 1,
     "metadata": {},
     "output_type": "execute_result"
    }
   ],
   "source": [
    "File.cwd!() =~ \"project/caffeine\""
   ]
  },
  {
   "cell_type": "code",
   "execution_count": 2,
   "metadata": {
    "collapsed": false
   },
   "outputs": [
    {
     "name": "stdout",
     "output_type": "stream",
     "text": [
      "\u001b[22m/Users/josephyiasemides/project/caffeine\u001b[0m\n"
     ]
    }
   ],
   "source": [
    "cd(\"~/project/caffeine\")"
   ]
  },
  {
   "cell_type": "code",
   "execution_count": 3,
   "metadata": {
    "collapsed": false
   },
   "outputs": [
    {
     "data": {
      "text/plain": [
       "true"
      ]
     },
     "execution_count": 3,
     "metadata": {},
     "output_type": "execute_result"
    }
   ],
   "source": [
    "File.cwd!() =~ \"project/caffeine\""
   ]
  },
  {
   "cell_type": "code",
   "execution_count": 4,
   "metadata": {
    "collapsed": false
   },
   "outputs": [
    {
     "data": {
      "text/plain": [
       "[{Caffeine.Element, <<70, 79, 82, 49, 0, 0, 3, 208, 66, 69, 65, 77, 65, 116, 85, 56, 0, 0, 0, 130, 0, 0, 0, 12, 23, 69, 108, 105, 120, 105, 114, 46, 67, 97, 102, 102, 101, 105, 110, 101, 46, 69, 108, 101, 109, 101, 110, ...>>}, {Caffeine.Stream, <<70, 79, 82, 49, 0, 0, 19, 88, 66, 69, 65, 77, 65, 116, 85, 56, 0, 0, 1, 24, 0, 0, 0, 32, 22, 69, 108, 105, 120, 105, 114, 46, 67, 97, 102, 102, 101, 105, 110, 101, 46, 83, 116, 114, 101, 97, ...>>}, {Caffeine, <<70, 79, 82, 49, 0, 0, 3, 220, 66, 69, 65, 77, 65, 116, 85, 56, 0, 0, 0, 122, 0, 0, 0, 12, 15, 69, 108, 105, 120, 105, 114, 46, 67, 97, 102, 102, 101, 105, 110, 101, 8, 95, 95, 105, 110, ...>>}]"
      ]
     },
     "execution_count": 4,
     "metadata": {},
     "output_type": "execute_result"
    }
   ],
   "source": [
    "Code.load_file(\"lib/caffeine.ex\")"
   ]
  },
  {
   "cell_type": "markdown",
   "metadata": {},
   "source": [
    "Once we have Caffeine ready to use we change our definition of the LCG from last time to use Caffeine instead of the improvised stream we'd built (see the `stream/2` function). The `LCG.MMIX` module and the expressions imediately following are borrowed from last time."
   ]
  },
  {
   "cell_type": "code",
   "execution_count": 5,
   "metadata": {
    "collapsed": false
   },
   "outputs": [
    {
     "data": {
      "text/plain": [
       "{:module, LCG, <<70, 79, 82, 49, 0, 0, 8, 56, 66, 69, 65, 77, 65, 116, 85, 56, 0, 0, 1, 27, 0, 0, 0, 28, 10, 69, 108, 105, 120, 105, 114, 46, 76, 67, 71, 8, 95, 95, 105, 110, 102, 111, 95, 95, 9, 102, 117, ...>>, {:stream, 2}}"
      ]
     },
     "execution_count": 5,
     "metadata": {},
     "output_type": "execute_result"
    }
   ],
   "source": [
    "defmodule LCG do\n",
    "  defmodule Parameters do\n",
    "    defstruct [\n",
    "      modulus:    9,\n",
    "      multiplier: 2,\n",
    "      increment:  0\n",
    "    ]\n",
    "\n",
    "    def okay?(p) do\n",
    "      m = p.modulus\n",
    "      a = p.multiplier\n",
    "      c = p.increment\n",
    "      \n",
    "      x = 0 < m\n",
    "      y = (0 < a and a < m)\n",
    "      z = (0 <= c and c < m)\n",
    "\n",
    "      x and y and z\n",
    "    end\n",
    "  end\n",
    "\n",
    "  def instance(p) do\n",
    "    m = p.modulus; a = p.multiplier; c = p.increment\n",
    "    fn s when 0 <= s and s < m ->\n",
    "      Integer.mod(a * s + c, m)\n",
    "    end\n",
    "  end\n",
    "\n",
    "  def stream(seed, generator) do\n",
    "    f = fn ->\n",
    "      stream(generator.(seed), generator)\n",
    "    end\n",
    "    Caffeine.Stream.construct(seed, f)\n",
    "  end\n",
    "end"
   ]
  },
  {
   "cell_type": "code",
   "execution_count": 6,
   "metadata": {
    "collapsed": false
   },
   "outputs": [
    {
     "data": {
      "text/plain": [
       "{:module, LCG.MMIX, <<70, 79, 82, 49, 0, 0, 5, 160, 66, 69, 65, 77, 65, 116, 85, 56, 0, 0, 0, 175, 0, 0, 0, 17, 15, 69, 108, 105, 120, 105, 114, 46, 76, 67, 71, 46, 77, 77, 73, 88, 8, 95, 95, 105, 110, 102, 111, ...>>, {:instance, 0}}"
      ]
     },
     "execution_count": 6,
     "metadata": {},
     "output_type": "execute_result"
    }
   ],
   "source": [
    "defmodule LCG.MMIX do\n",
    "  def instance do\n",
    "    x = %LCG.Parameters{\n",
    "      modulus:    round(:math.pow(2, 64)),\n",
    "      multiplier: 6364136223846793005,\n",
    "      increment:  1442695040888963407\n",
    "    }\n",
    "    true = LCG.Parameters.okay?(x)\n",
    "    LCG.instance(x)\n",
    "  end\n",
    "end"
   ]
  },
  {
   "cell_type": "code",
   "execution_count": 7,
   "metadata": {
    "collapsed": false
   },
   "outputs": [
    {
     "data": {
      "text/plain": [
       "#Function<0.36907607/1 in LCG.instance/1>"
      ]
     },
     "execution_count": 7,
     "metadata": {},
     "output_type": "execute_result"
    }
   ],
   "source": [
    "m = LCG.MMIX.instance()"
   ]
  },
  {
   "cell_type": "code",
   "execution_count": 8,
   "metadata": {
    "collapsed": false
   },
   "outputs": [
    {
     "data": {
      "text/plain": [
       "[1, 7806831264735756412, 9396908728118811419, 11960119808228829710, 7062582979898595269, 14673421054488193520, 9232803539723513983, 10218303843513747618, 1206773305466921929]"
      ]
     },
     "execution_count": 8,
     "metadata": {},
     "output_type": "execute_result"
    }
   ],
   "source": [
    "Caffeine.Stream.take(LCG.stream(1, m), 9)"
   ]
  },
  {
   "cell_type": "markdown",
   "metadata": {},
   "source": [
    "The LCG stream imposes on us large natural numbers. We have to build a way to work with them so that we can build data generators that are reasonable. I.e. we don't want to generate lists that are 7806831264735756412 elements long."
   ]
  },
  {
   "cell_type": "code",
   "execution_count": 9,
   "metadata": {
    "collapsed": false
   },
   "outputs": [
    {
     "data": {
      "text/plain": [
       "{:module, Generator.BoundNatural, <<70, 79, 82, 49, 0, 0, 6, 36, 66, 69, 65, 77, 65, 116, 85, 56, 0, 0, 0, 247, 0, 0, 0, 22, 29, 69, 108, 105, 120, 105, 114, 46, 71, 101, 110, 101, 114, 97, 116, 111, 114, 46, 66, 111, 117, 110, 100, ...>>, {:limit, 1}}"
      ]
     },
     "execution_count": 9,
     "metadata": {},
     "output_type": "execute_result"
    }
   ],
   "source": [
    "defmodule Generator.BoundNatural do\n",
    "  def stream(limit: i) do\n",
    "    s = LCG.stream(1, LCG.MMIX.instance())\n",
    "    Caffeine.Stream.map(s, limit(i))\n",
    "  end\n",
    "\n",
    "  defp limit(i) do\n",
    "    fn x ->\n",
    "      Integer.mod(x, i)\n",
    "    end\n",
    "  end\n",
    "end"
   ]
  },
  {
   "cell_type": "code",
   "execution_count": 10,
   "metadata": {
    "collapsed": false
   },
   "outputs": [
    {
     "data": {
      "text/plain": [
       "[1, 12, 19, 10, 69, 20, 83, 18, 29, 44, 31, 54, 93, 48, 55, 58, 17, 52, 83, 46, 25, 24, 39, 46, 21, 48, 35, 86, 25, 48, 39, 38, 29, 72, 79, 38, 89, 28, 19, 78, 33, 48, 27, 22, 37, 76, 83, 98, 5, 28, ...]"
      ]
     },
     "execution_count": 10,
     "metadata": {},
     "output_type": "execute_result"
    }
   ],
   "source": [
    "x = Caffeine.Stream.take(Generator.BoundNatural.stream(limit: 100), 100)"
   ]
  },
  {
   "cell_type": "markdown",
   "metadata": {},
   "source": [
    "Let's test that our distribution of _small_ natural numbers is uniform."
   ]
  },
  {
   "cell_type": "code",
   "execution_count": 11,
   "metadata": {
    "collapsed": false
   },
   "outputs": [
    {
     "data": {
      "text/plain": [
       "47"
      ]
     },
     "execution_count": 11,
     "metadata": {},
     "output_type": "execute_result"
    }
   ],
   "source": [
    "Enum.count(x, fn x -> x >= 50 end)"
   ]
  },
  {
   "cell_type": "markdown",
   "metadata": {},
   "source": [
    "There's more than one way to write a stream of cube numbers (and other streams):\n",
    "1. `Cube.V1` uses the primitives in Caffeine (like `construct/2`) and increments a counter\n",
    "2. `Cube.V2` does away with the counter by `map`ing over the `Natural` stream"
   ]
  },
  {
   "cell_type": "code",
   "execution_count": 12,
   "metadata": {
    "collapsed": false
   },
   "outputs": [
    {
     "data": {
      "text/plain": [
       "{:module, Cube.V1, <<70, 79, 82, 49, 0, 0, 5, 204, 66, 69, 65, 77, 65, 116, 85, 56, 0, 0, 0, 187, 0, 0, 0, 19, 14, 69, 108, 105, 120, 105, 114, 46, 67, 117, 98, 101, 46, 86, 49, 8, 95, 95, 105, 110, 102, 111, 95, ...>>, {:cube, 1}}"
      ]
     },
     "execution_count": 12,
     "metadata": {},
     "output_type": "execute_result"
    }
   ],
   "source": [
    "defmodule Cube.V1 do\n",
    "  def stream do\n",
    "    stream(0)\n",
    "  end\n",
    "\n",
    "  defp stream(x) do\n",
    "    f = fn ->\n",
    "      stream(x + 1)\n",
    "    end\n",
    "    Caffeine.Stream.construct(cube(x), f)\n",
    "  end\n",
    "\n",
    "  defp cube(x) do\n",
    "    x * x * x\n",
    "  end\n",
    "end"
   ]
  },
  {
   "cell_type": "code",
   "execution_count": 13,
   "metadata": {
    "collapsed": false
   },
   "outputs": [
    {
     "data": {
      "text/plain": [
       "[0, 1, 8, 27, 64, 125, 216]"
      ]
     },
     "execution_count": 13,
     "metadata": {},
     "output_type": "execute_result"
    }
   ],
   "source": [
    "Caffeine.Stream.take(Cube.V1.stream(), 7)"
   ]
  },
  {
   "cell_type": "code",
   "execution_count": 14,
   "metadata": {
    "collapsed": false
   },
   "outputs": [
    {
     "data": {
      "text/plain": [
       "{:module, Natural, <<70, 79, 82, 49, 0, 0, 5, 84, 66, 69, 65, 77, 65, 116, 85, 56, 0, 0, 0, 180, 0, 0, 0, 17, 14, 69, 108, 105, 120, 105, 114, 46, 78, 97, 116, 117, 114, 97, 108, 8, 95, 95, 105, 110, 102, 111, 95, ...>>, {:stream, 1}}"
      ]
     },
     "execution_count": 14,
     "metadata": {},
     "output_type": "execute_result"
    }
   ],
   "source": [
    "defmodule Natural do\n",
    "  def stream do\n",
    "    stream(0)\n",
    "  end\n",
    "\n",
    "  defp stream(x) do\n",
    "    f = fn ->\n",
    "      stream(x + 1)\n",
    "    end\n",
    "    Caffeine.Stream.construct(x, f)\n",
    "  end\n",
    "end"
   ]
  },
  {
   "cell_type": "code",
   "execution_count": 15,
   "metadata": {
    "collapsed": false
   },
   "outputs": [
    {
     "data": {
      "text/plain": [
       "[0, 1, 2, 3, 4, 5, 6]"
      ]
     },
     "execution_count": 15,
     "metadata": {},
     "output_type": "execute_result"
    }
   ],
   "source": [
    "Caffeine.Stream.take(Natural.stream(), 7)"
   ]
  },
  {
   "cell_type": "code",
   "execution_count": 16,
   "metadata": {
    "collapsed": false
   },
   "outputs": [
    {
     "data": {
      "text/plain": [
       "{:module, Cube.V2, <<70, 79, 82, 49, 0, 0, 5, 100, 66, 69, 65, 77, 65, 116, 85, 56, 0, 0, 0, 194, 0, 0, 0, 19, 14, 69, 108, 105, 120, 105, 114, 46, 67, 117, 98, 101, 46, 86, 50, 8, 95, 95, 105, 110, 102, 111, 95, ...>>, {:cube, 1}}"
      ]
     },
     "execution_count": 16,
     "metadata": {},
     "output_type": "execute_result"
    }
   ],
   "source": [
    "defmodule Cube.V2 do\n",
    "  def stream do\n",
    "    Caffeine.Stream.map(Natural.stream(), &cube/1)\n",
    "  end\n",
    "\n",
    "  defp cube(x) do\n",
    "    x * x * x\n",
    "  end\n",
    "end"
   ]
  },
  {
   "cell_type": "code",
   "execution_count": 17,
   "metadata": {
    "collapsed": false
   },
   "outputs": [
    {
     "data": {
      "text/plain": [
       "[0, 1, 8, 27, 64]"
      ]
     },
     "execution_count": 17,
     "metadata": {},
     "output_type": "execute_result"
    }
   ],
   "source": [
    "Caffeine.Stream.take(Cube.V2.stream(), 5)"
   ]
  },
  {
   "cell_type": "markdown",
   "metadata": {},
   "source": [
    "This is **one** way to write a generator for printable ASCII characters."
   ]
  },
  {
   "cell_type": "code",
   "execution_count": 18,
   "metadata": {
    "collapsed": false
   },
   "outputs": [
    {
     "data": {
      "text/plain": [
       "{:module, Generator.Character.PrintableASCII, <<70, 79, 82, 49, 0, 0, 6, 164, 66, 69, 65, 77, 65, 116, 85, 56, 0, 0, 1, 14, 0, 0, 0, 23, 41, 69, 108, 105, 120, 105, 114, 46, 71, 101, 110, 101, 114, 97, 116, 111, 114, 46, 67, 104, 97, 114, 97, ...>>, {:upper_bound, 0}}"
      ]
     },
     "execution_count": 18,
     "metadata": {},
     "output_type": "execute_result"
    }
   ],
   "source": [
    "defmodule Generator.Character.PrintableASCII do\n",
    "  def stream do\n",
    "    f = fn (x) ->\n",
    "      lower_bound() + x\n",
    "    end\n",
    "    Caffeine.Stream.map(Generator.BoundNatural.stream(limit: length()), f)\n",
    "  end\n",
    "\n",
    "  defp length do\n",
    "    upper_bound - lower_bound\n",
    "  end\n",
    "\n",
    "  defp lower_bound do\n",
    "    ?\\s\n",
    "  end\n",
    "\n",
    "  defp upper_bound do\n",
    "    ?~\n",
    "  end\n",
    "end"
   ]
  },
  {
   "cell_type": "code",
   "execution_count": 19,
   "metadata": {
    "collapsed": false
   },
   "outputs": [
    {
     "data": {
      "text/plain": [
       "'!he@E@?l{$w@7$O:!2[:-LIBG@[&!^7:gp]f% W4S8qjgve,s@#$}vul?B;(GLGZ_J9Ha>!B%8#T]6q^iD[hY\"kJM\\\\-8u4?,'"
      ]
     },
     "execution_count": 19,
     "metadata": {},
     "output_type": "execute_result"
    }
   ],
   "source": [
    "Caffeine.Stream.take(Generator.Character.PrintableASCII.stream(), 96)"
   ]
  },
  {
   "cell_type": "markdown",
   "metadata": {},
   "source": [
    "**One** way to write a generator for (ASCII) character lists."
   ]
  },
  {
   "cell_type": "code",
   "execution_count": 20,
   "metadata": {
    "collapsed": false
   },
   "outputs": [
    {
     "data": {
      "text/plain": [
       "{:module, Generator.CharacterList, <<70, 79, 82, 49, 0, 0, 8, 124, 66, 69, 65, 77, 65, 116, 85, 56, 0, 0, 1, 50, 0, 0, 0, 26, 30, 69, 108, 105, 120, 105, 114, 46, 71, 101, 110, 101, 114, 97, 116, 111, 114, 46, 67, 104, 97, 114, 97, ...>>, {:rest, 2}}"
      ]
     },
     "execution_count": 20,
     "metadata": {},
     "output_type": "execute_result"
    }
   ],
   "source": [
    "defmodule Generator.CharacterList do\n",
    "  alias Generator.BoundNatural\n",
    "  alias Generator.Character.PrintableASCII\n",
    "\n",
    "  def stream do\n",
    "    stream(length: BoundNatural.stream(limit: 100), fill: PrintableASCII.stream())\n",
    "  end\n",
    "\n",
    "  defp stream(length: s, fill: r) do\n",
    "    {x, y} = split(r, Caffeine.Stream.head(s))\n",
    "    f = fn ->\n",
    "      stream(length: Caffeine.Stream.tail(s), fill: y)\n",
    "    end\n",
    "    Caffeine.Stream.construct(x, f)\n",
    "  end\n",
    "\n",
    "  defp split(s, i) do\n",
    "    {Caffeine.Stream.take(s, i), rest(s, i)}\n",
    "  end\n",
    "\n",
    "  defp rest(s, 0) do\n",
    "    s\n",
    "  end\n",
    "  defp rest(s, i) when i > 0 do\n",
    "    rest(Caffeine.Stream.tail(s), i - 1)\n",
    "  end\n",
    "end"
   ]
  },
  {
   "cell_type": "code",
   "execution_count": 21,
   "metadata": {
    "collapsed": false
   },
   "outputs": [
    {
     "data": {
      "text/plain": [
       "['!', 'he@E@?l{$w@7', '$O:!2[:-LIBG@[&!^7:', 'gp]f% W4S8', 'qjgve,s@#$}vul?B;(GLGZ_J9Ha>!B%8#T]6q^iD[hY\"kJM\\\\-8u4?,-J_:WV/L=Z]Pi$}', 'deD-.a>wR-@u\\\\O>/0c&I', 'tkh!h=rg2/N9r{81&}\"74=^IVK>#<;<mBar#:CnC0m\\\\?6GLeXs$%:c\\\\_XWrs^/,[0i|SJa<q6)|= c&sp) ', 'G2aJ?*#RsPS\"c0\\'RGR', 'KVSN\\'2i4!$SX;*7Re(/T{F-@]*ono', '`A&#$K8Q$kri\\\\Gp!hKHWZC6g6qb1v-L\\'j_.?v%XCLE*A']"
      ]
     },
     "execution_count": 21,
     "metadata": {},
     "output_type": "execute_result"
    }
   ],
   "source": [
    "x = Caffeine.Stream.take(Generator.CharacterList.stream(), 10)"
   ]
  },
  {
   "cell_type": "markdown",
   "metadata": {},
   "source": [
    "## Summary\n",
    "\n",
    "Some of the things we've seen:\n",
    "\n",
    "- Building streams with primitives (e.g. `Caffeine.Stream.{sentinel/0, construct/2}`\n",
    "- Building streams with HOFs (e.g. `Caffeine.Stream.{map/2, filter/2}`)\n",
    "- [Keyword lists](https://elixir-lang.org/getting-started/keywords-and-maps.html#keyword-lists):\n",
    "The `Rectangle` example in [Smalltalk's Wikipedia article](https://en.wikipedia.org/wiki/Smalltalk#Messages) motivates their use for clarity at call site.\n",
    "\n",
    "## Data Generators\n",
    "\n",
    "- Natural\n",
    "\n",
    "- Character\n",
    "\n",
    "- Integer\n",
    "\n",
    "- Float\n",
    "\n",
    "- Boolean and `nil`\n",
    "\n",
    "- List:\n",
    "\n",
    "  A homogeneously typed list (elements are of the same type).\n",
    "  API suggestion:\n",
    "  `List.stream(g)` where `g` is any other generator.\n",
    "  E.g. `List.stream(Integer.stream())` would build elements like `[1,8,0]`.\n",
    "\n",
    "\n",
    "- Character List\n",
    "\n",
    "- Pair (i.e. `[_|?]` where `?` isn't `[]`)\n",
    "\n",
    "- Binary\n",
    "\n",
    "- String\n",
    "\n",
    "- Tuple:\n",
    "\n",
    "  A heterogeneously typed tuple.\n",
    "  API suggestion:\n",
    "  `Tuple.stream(l)` where `l` is a list of generators.\n",
    "  E.g. if `l = [Integer.stream(), Float.stream(), String.stream()]` then the elements would look like `{5, 6.1, \"qwerty\"}`.\n",
    "\n",
    "\n",
    "- Record\n",
    "\n",
    "- Symbol/Atom\n",
    "\n",
    "- Map/Struct\n",
    "\n",
    "- Function:\n",
    "\n",
    "  This could be as simple as `Function.stream(arity: 0, return: Integer.stream())` with no restriction on the input parameters.\n",
    "  Let's restrict arity to 5.\n",
    "  E.g.:\n",
    "  ```Elixir\n",
    "  > f = head(Function.stream(arity: 1, return: String.stream()));\n",
    "  > f.(nil)\n",
    "  > \"qwerty\"\n",
    "  ```\n",
    "  \n",
    "- Term:\n",
    "\n",
    "  Every element produced by this generator is a value from a randomly selected generator.\n",
    "\n",
    "\n",
    "- Port, PID, and Ref\n"
   ]
  },
  {
   "cell_type": "code",
   "execution_count": 22,
   "metadata": {
    "collapsed": false
   },
   "outputs": [
    {
     "data": {
      "text/plain": [
       "\"Ney!\""
      ]
     },
     "execution_count": 22,
     "metadata": {},
     "output_type": "execute_result"
    }
   ],
   "source": [
    "try do\n",
    "  Enum.take(Generator.Character.PrintableASCII.stream(), 10) && \"Yey!\"\n",
    "rescue\n",
    "  FunctionClauseError ->\n",
    "    \"Ney!\"\n",
    "end"
   ]
  },
  {
   "cell_type": "code",
   "execution_count": 23,
   "metadata": {
    "collapsed": false
   },
   "outputs": [
    {
     "data": {
      "text/plain": [
       "{:module, Generator.Character.PrintableASCII, <<70, 79, 82, 49, 0, 0, 8, 176, 66, 69, 65, 77, 65, 116, 85, 56, 0, 0, 1, 77, 0, 0, 0, 29, 41, 69, 108, 105, 120, 105, 114, 46, 71, 101, 110, 101, 114, 97, 116, 111, 114, 46, 67, 104, 97, 114, 97, ...>>, {:upper_bound, 0}}"
      ]
     },
     "execution_count": 23,
     "metadata": {},
     "output_type": "execute_result"
    }
   ],
   "source": [
    "defmodule Generator.Character.PrintableASCII do\n",
    "  defstruct [\n",
    "     :stream\n",
    "  ]\n",
    "\n",
    "  def stream do\n",
    "    f = fn (x) ->\n",
    "      lower_bound() + x\n",
    "    end\n",
    "    Caffeine.Stream.map(Generator.BoundNatural.stream(limit: length()), f)\n",
    "  end\n",
    "\n",
    "  defp length do\n",
    "    upper_bound - lower_bound\n",
    "  end\n",
    "\n",
    "  defp lower_bound do\n",
    "    ?\\s\n",
    "  end\n",
    "\n",
    "  defp upper_bound do\n",
    "    ?~\n",
    "  end\n",
    "end"
   ]
  },
  {
   "cell_type": "code",
   "execution_count": 24,
   "metadata": {
    "collapsed": false
   },
   "outputs": [
    {
     "data": {
      "text/plain": [
       "\"Ney!\""
      ]
     },
     "execution_count": 24,
     "metadata": {},
     "output_type": "execute_result"
    }
   ],
   "source": [
    "try do\n",
    "  Enum.take(Generator.Character.PrintableASCII.stream(), 10) && \"Yey!\"\n",
    "rescue\n",
    "  FunctionClauseError ->\n",
    "    \"Ney!\"\n",
    "end"
   ]
  },
  {
   "cell_type": "code",
   "execution_count": 25,
   "metadata": {
    "collapsed": false
   },
   "outputs": [
    {
     "data": {
      "text/plain": [
       "{:module, Enumerable.Generator.Character.PrintableASCII, <<70, 79, 82, 49, 0, 0, 12, 20, 66, 69, 65, 77, 65, 116, 85, 56, 0, 0, 1, 176, 0, 0, 0, 40, 52, 69, 108, 105, 120, 105, 114, 46, 69, 110, 117, 109, 101, 114, 97, 98, 108, 101, 46, 71, 101, 110, 101, ...>>, {:__impl__, 1}}"
      ]
     },
     "execution_count": 25,
     "metadata": {},
     "output_type": "execute_result"
    }
   ],
   "source": [
    "defimpl Enumerable, for: Generator.Character.PrintableASCII do\n",
    "  def reduce(_, {:halt, acc}, _) do\n",
    "    {:halt, acc}\n",
    "  end\n",
    "  def reduce(s, {:suspend, acc}, f) do\n",
    "    {:suspended, acc, &reduce(s.stream, &1, f)}\n",
    "  end\n",
    "  def reduce(s, {:cont, acc}, f) do\n",
    "    cond do\n",
    "      Caffeine.Stream.sentinel?(s.stream) ->\n",
    "        {:done, acc}\n",
    "      Caffeine.Stream.construct?(s.stream) ->\n",
    "        reduce(%Generator.Character.PrintableASCII{stream: Caffeine.Stream.tail(s.stream)}, f.(Caffeine.Stream.head(s.stream), acc), f)\n",
    "    end\n",
    "  end\n",
    "\n",
    "  def count(_) do\n",
    "    {:error, Generator.Character.PrintableASCII}\n",
    "  end\n",
    "\n",
    "  def member?(_, _) do\n",
    "    {:error, Generator.Character.PrintableASCII}\n",
    "  end\n",
    "\n",
    "  def slice(_) do\n",
    "    {:error, Generator.Character.PrintableASCII}\n",
    "  end\n",
    "end"
   ]
  },
  {
   "cell_type": "code",
   "execution_count": 26,
   "metadata": {
    "collapsed": false
   },
   "outputs": [
    {
     "data": {
      "text/plain": [
       "'!he@E@?l{$'"
      ]
     },
     "execution_count": 26,
     "metadata": {},
     "output_type": "execute_result"
    }
   ],
   "source": [
    "Enum.take(%Generator.Character.PrintableASCII{stream: Generator.Character.PrintableASCII.stream()}, 10)"
   ]
  },
  {
   "cell_type": "code",
   "execution_count": 27,
   "metadata": {
    "collapsed": false
   },
   "outputs": [
    {
     "data": {
      "text/plain": [
       "[\"ex_unit_properties.ex\", \"stream_data.ex\", \"stream_data\"]"
      ]
     },
     "execution_count": 27,
     "metadata": {},
     "output_type": "execute_result"
    }
   ],
   "source": [
    "File.ls!(\"deps/stream_data/lib/\")"
   ]
  },
  {
   "cell_type": "code",
   "execution_count": 28,
   "metadata": {
    "collapsed": false
   },
   "outputs": [
    {
     "data": {
      "text/plain": [
       "[\"lazy_tree.ex\"]"
      ]
     },
     "execution_count": 28,
     "metadata": {},
     "output_type": "execute_result"
    }
   ],
   "source": [
    "File.ls!(\"deps/stream_data/lib/stream_data\")"
   ]
  },
  {
   "cell_type": "code",
   "execution_count": 29,
   "metadata": {
    "collapsed": false
   },
   "outputs": [
    {
     "data": {
      "text/plain": [
       "[\"deps/stream_data/lib/stream_data/lazy_tree.ex\", \"deps/stream_data/lib/stream_data.ex\", \"deps/stream_data/lib/ex_unit_properties.ex\"]"
      ]
     },
     "execution_count": 29,
     "metadata": {},
     "output_type": "execute_result"
    }
   ],
   "source": [
    "x = [\"deps/stream_data/lib/stream_data/lazy_tree.ex\", \"deps/stream_data/lib/stream_data.ex\", \"deps/stream_data/lib/ex_unit_properties.ex\"]"
   ]
  },
  {
   "cell_type": "code",
   "execution_count": 30,
   "metadata": {
    "collapsed": false
   },
   "outputs": [
    {
     "data": {
      "text/plain": [
       "[[{Inspect.StreamData.LazyTree, <<70, 79, 82, 49, 0, 0, 10, 16, 66, 69, 65, 77, 65, 116, 85, 56, 0, 0, 1, 101, 0, 0, 0, 34, 34, 69, 108, 105, 120, 105, 114, 46, 73, 110, 115, 112, 101, 99, 116, 46, 83, 116, 114, 101, 97, 109, ...>>}, {StreamData.LazyTree, <<70, 79, 82, 49, 0, 0, 24, 80, 66, 69, 65, 77, 65, 116, 85, 56, 0, 0, 2, 8, 0, 0, 0, 48, 26, 69, 108, 105, 120, 105, 114, 46, 83, 116, 114, 101, 97, 109, 68, 97, 116, 97, 46, 76, 97, ...>>}], [{StreamData.FilterTooNarrowError, <<70, 79, 82, 49, 0, 0, 22, 44, 66, 69, 65, 77, 65, 116, 85, 56, 0, 0, 1, 195, 0, 0, 0, 41, 38, 69, 108, 105, 120, 105, 114, 46, 83, 116, 114, 101, 97, 109, 68, 97, 116, 97, 46, 70, 105, ...>>}, {StreamData.TooManyDuplicatesError, <<70, 79, 82, 49, 0, 0, 16, 140, 66, 69, 65, 77, 65, 116, 85, 56, 0, 0, 1, 172, 0, 0, 0, 38, 40, 69, 108, 105, 120, 105, 114, 46, 83, 116, 114, 101, 97, 109, 68, 97, 116, 97, 46, 84, ...>>}, {Enumerable.StreamData, <<70, 79, 82, 49, 0, 0, 7, 228, 66, 69, 65, 77, 65, 116, 85, 56, 0, 0, 0, 238, 0, 0, 0, 23, 28, 69, 108, 105, 120, 105, 114, 46, 69, 110, 117, 109, 101, 114, 97, 98, 108, 101, 46, ...>>}, {StreamData, <<70, 79, 82, 49, 0, 1, 26, 48, 66, 69, 65, 77, 65, 116, 85, 56, 0, 0, 20, 225, 0, 0, 1, 78, 17, 69, 108, 105, 120, 105, 114, 46, 83, 116, 114, 101, 97, 109, 68, 97, 116, 97, ...>>}], [{ExUnitProperties.Error, <<70, 79, 82, 49, 0, 0, 12, 204, 66, 69, 65, 77, 65, 116, 85, 56, 0, 0, 1, 96, 0, 0, 0, 34, 29, 69, 108, 105, 120, 105, 114, 46, 69, 120, 85, 110, 105, 116, 80, 114, 111, 112, 101, 114, ...>>}, {ExUnitProperties, <<70, 79, 82, 49, 0, 0, 67, 188, 66, 69, 65, 77, 65, 116, 85, 56, 0, 0, 4, 170, 0, 0, 0, 105, 23, 69, 108, 105, 120, 105, 114, 46, 69, 120, 85, 110, 105, 116, 80, 114, 111, 112, 101, ...>>}]]"
      ]
     },
     "execution_count": 30,
     "metadata": {},
     "output_type": "execute_result"
    }
   ],
   "source": [
    "Enum.map(x, &Code.load_file/1)"
   ]
  },
  {
   "cell_type": "code",
   "execution_count": 31,
   "metadata": {
    "collapsed": false
   },
   "outputs": [
    {
     "data": {
      "text/plain": [
       "[#Function<2.80697779/1 in ExUnit.start/1>]"
      ]
     },
     "execution_count": 31,
     "metadata": {},
     "output_type": "execute_result"
    }
   ],
   "source": [
    "ExUnit.start()"
   ]
  },
  {
   "cell_type": "code",
   "execution_count": 32,
   "metadata": {
    "collapsed": false
   },
   "outputs": [
    {
     "data": {
      "text/plain": [
       "{:module, Generator.Character.PrintableASCIITest, <<70, 79, 82, 49, 0, 0, 18, 36, 66, 69, 65, 77, 65, 116, 85, 56, 0, 0, 3, 8, 0, 0, 0, 62, 45, 69, 108, 105, 120, 105, 114, 46, 71, 101, 110, 101, 114, 97, 116, 111, 114, 46, 67, 104, 97, 114, 97, ...>>, {:\"property fu\", 1}}"
      ]
     },
     "execution_count": 32,
     "metadata": {},
     "output_type": "execute_result"
    }
   ],
   "source": [
    "defmodule Generator.Character.PrintableASCIITest do\n",
    "  use ExUnit.Case\n",
    "  use ExUnitProperties\n",
    "\n",
    "  property \"fu\" do\n",
    "    generator = %Generator.Character.PrintableASCII{stream: Generator.Character.PrintableASCII.stream()}\n",
    "    check all e <- generator do\n",
    "      IO.inspect(e)\n",
    "    end\n",
    "  end\n",
    "end"
   ]
  },
  {
   "cell_type": "code",
   "execution_count": 33,
   "metadata": {
    "collapsed": false
   },
   "outputs": [
    {
     "data": {
      "text/plain": [
       "[__ex_unit__: 0, __ex_unit__: 2, \"property fu\": 1]"
      ]
     },
     "execution_count": 33,
     "metadata": {},
     "output_type": "execute_result"
    }
   ],
   "source": [
    "Generator.Character.PrintableASCIITest.__info__(:functions)"
   ]
  },
  {
   "cell_type": "code",
   "execution_count": 34,
   "metadata": {
    "collapsed": false
   },
   "outputs": [
    {
     "ename": "ArgumentError",
     "evalue": "1",
     "output_type": "error",
     "traceback": [
      "** (ArgumentError) \"could not fetch application environment :initial_size for application :stream_data because the application was not loaded/started. If your application depends on :stream_data at runtime, make sure to load/start it or list it under :extra_applications in your mix.exs file\""
     ]
    }
   ],
   "source": [
    "Generator.Character.PrintableASCIITest.\"property fu\"(%{})"
   ]
  },
  {
   "cell_type": "code",
   "execution_count": 34,
   "metadata": {
    "collapsed": false
   },
   "outputs": [
    {
     "data": {
      "text/plain": [
       "[{StreamData.Mixfile, <<70, 79, 82, 49, 0, 0, 8, 148, 66, 69, 65, 77, 65, 116, 85, 56, 0, 0, 0, 197, 0, 0, 0, 20, 25, 69, 108, 105, 120, 105, 114, 46, 83, 116, 114, 101, 97, 109, 68, 97, 116, 97, 46, 77, 105, 120, 102, ...>>}]"
      ]
     },
     "execution_count": 34,
     "metadata": {},
     "output_type": "execute_result"
    }
   ],
   "source": [
    "Code.load_file(\"deps/stream_data/mix.exs\")"
   ]
  },
  {
   "cell_type": "code",
   "execution_count": 35,
   "metadata": {
    "collapsed": false
   },
   "outputs": [
    {
     "data": {
      "text/plain": [
       ":ok"
      ]
     },
     "execution_count": 35,
     "metadata": {},
     "output_type": "execute_result"
    }
   ],
   "source": [
    ":observer.start()"
   ]
  },
  {
   "cell_type": "code",
   "execution_count": 36,
   "metadata": {
    "collapsed": false
   },
   "outputs": [
    {
     "data": {
      "text/plain": [
       "[stacktrace_depth: 20, colors: [], refute_receive_timeout: 100, formatters: [ExUnit.CLIFormatter], slowest: 0, module_load_timeout: 60000, autorun: false, include: [], plural_rules: %{\"property\" => \"properties\"}, trace: false, capture_log: false, assert_receive_timeout: 100, exclude: [], included_applications: [], timeout: 60000]"
      ]
     },
     "execution_count": 36,
     "metadata": {},
     "output_type": "execute_result"
    }
   ],
   "source": [
    "Application.get_all_env(:ex_unit)"
   ]
  },
  {
   "cell_type": "code",
   "execution_count": 37,
   "metadata": {
    "collapsed": false
   },
   "outputs": [
    {
     "data": {
      "text/plain": [
       "[]"
      ]
     },
     "execution_count": 37,
     "metadata": {},
     "output_type": "execute_result"
    }
   ],
   "source": [
    "Application.get_all_env(:stream_data)"
   ]
  },
  {
   "cell_type": "code",
   "execution_count": 38,
   "metadata": {
    "collapsed": false
   },
   "outputs": [
    {
     "data": {
      "text/plain": [
       "[initial_size: 1, max_runs: 100, max_run_time: :infinity, max_shrinking_steps: 100]"
      ]
     },
     "execution_count": 38,
     "metadata": {},
     "output_type": "execute_result"
    }
   ],
   "source": [
    "configuration = [\n",
    "        initial_size: 1,\n",
    "        max_runs: 100,\n",
    "        max_run_time: :infinity,\n",
    "        max_shrinking_steps: 100\n",
    "      ]"
   ]
  },
  {
   "cell_type": "code",
   "execution_count": 39,
   "metadata": {
    "collapsed": false
   },
   "outputs": [
    {
     "data": {
      "text/plain": [
       ":ok"
      ]
     },
     "execution_count": 39,
     "metadata": {},
     "output_type": "execute_result"
    }
   ],
   "source": [
    "f = fn {name, value} ->\n",
    "  Application.put_env(:stream_data, name, value)\n",
    "end\n",
    "Enum.each(configuration, f)"
   ]
  },
  {
   "cell_type": "code",
   "execution_count": 40,
   "metadata": {
    "collapsed": false
   },
   "outputs": [
    {
     "data": {
      "text/plain": [
       "685408"
      ]
     },
     "execution_count": 40,
     "metadata": {},
     "output_type": "execute_result"
    }
   ],
   "source": [
    "x = ExUnit.configuration(); x[:seed]"
   ]
  },
  {
   "cell_type": "code",
   "execution_count": 41,
   "metadata": {
    "collapsed": false
   },
   "outputs": [
    {
     "data": {
      "text/plain": [
       "%Generator.Character.PrintableASCII{stream: [33 | #Function<1.9917893/0 in Caffeine.Stream.map/2>]}"
      ]
     },
     "execution_count": 41,
     "metadata": {},
     "output_type": "execute_result"
    }
   ],
   "source": [
    "generator = %Generator.Character.PrintableASCII{stream: Generator.Character.PrintableASCII.stream()}"
   ]
  },
  {
   "cell_type": "code",
   "execution_count": 42,
   "metadata": {
    "collapsed": false
   },
   "outputs": [
    {
     "data": {
      "text/plain": [
       "'!he@E'"
      ]
     },
     "execution_count": 42,
     "metadata": {},
     "output_type": "execute_result"
    }
   ],
   "source": [
    "Enum.take generator, 5"
   ]
  },
  {
   "cell_type": "code",
   "execution_count": 43,
   "metadata": {
    "collapsed": false
   },
   "outputs": [
    {
     "data": {
      "text/plain": [
       "5"
      ]
     },
     "execution_count": 43,
     "metadata": {},
     "output_type": "execute_result"
    }
   ],
   "source": [
    "3 + 2"
   ]
  },
  {
   "cell_type": "code",
   "execution_count": 44,
   "metadata": {
    "collapsed": false
   },
   "outputs": [
    {
     "data": {
      "text/plain": [
       "{:module, M, <<70, 79, 82, 49, 0, 0, 4, 104, 66, 69, 65, 77, 65, 116, 85, 56, 0, 0, 0, 126, 0, 0, 0, 16, 8, 69, 108, 105, 120, 105, 114, 46, 77, 8, 95, 95, 105, 110, 102, 111, 95, 95, 9, 102, 117, 110, 99, ...>>, {:f, 1}}"
      ]
     },
     "execution_count": 44,
     "metadata": {},
     "output_type": "execute_result"
    }
   ],
   "source": [
    "defmodule M do\n",
    "  def f(fu: x, bar: y) do\n",
    "    x * y\n",
    "  end\n",
    "end"
   ]
  },
  {
   "cell_type": "code",
   "execution_count": 45,
   "metadata": {
    "collapsed": false
   },
   "outputs": [
    {
     "ename": "CompileError",
     "evalue": "1",
     "output_type": "error",
     "traceback": [
      "** (CompileError) console:1 \"undefined function y/0\""
     ]
    }
   ],
   "source": [
    "z = [fu: x, bar: y]"
   ]
  },
  {
   "cell_type": "code",
   "execution_count": 45,
   "metadata": {
    "collapsed": false
   },
   "outputs": [
    {
     "data": {
      "text/plain": [
       "{:module, M, <<70, 79, 82, 49, 0, 0, 4, 104, 66, 69, 65, 77, 65, 116, 85, 56, 0, 0, 0, 126, 0, 0, 0, 16, 8, 69, 108, 105, 120, 105, 114, 46, 77, 8, 95, 95, 105, 110, 102, 111, 95, 95, 9, 102, 117, 110, 99, ...>>, {:f, 1}}"
      ]
     },
     "execution_count": 45,
     "metadata": {},
     "output_type": "execute_result"
    }
   ],
   "source": [
    "defmodule M do\n",
    "  def f([fu: x, bar: y]) do\n",
    "    x * y\n",
    "  end\n",
    "end"
   ]
  },
  {
   "cell_type": "code",
   "execution_count": 46,
   "metadata": {
    "collapsed": false
   },
   "outputs": [
    {
     "data": {
      "text/plain": [
       "{:module, M, <<70, 79, 82, 49, 0, 0, 4, 104, 66, 69, 65, 77, 65, 116, 85, 56, 0, 0, 0, 126, 0, 0, 0, 16, 8, 69, 108, 105, 120, 105, 114, 46, 77, 8, 95, 95, 105, 110, 102, 111, 95, 95, 9, 102, 117, 110, 99, ...>>, {:f, 1}}"
      ]
     },
     "execution_count": 46,
     "metadata": {},
     "output_type": "execute_result"
    }
   ],
   "source": [
    "defmodule M do\n",
    "  def f([{:fu, x}, {:bar, y}]) do\n",
    "    x * y\n",
    "  end\n",
    "end"
   ]
  },
  {
   "cell_type": "code",
   "execution_count": 47,
   "metadata": {
    "collapsed": false
   },
   "outputs": [
    {
     "data": {
      "text/plain": [
       "{:module, M, <<70, 79, 82, 49, 0, 0, 4, 216, 66, 69, 65, 77, 65, 116, 85, 56, 0, 0, 0, 126, 0, 0, 0, 16, 8, 69, 108, 105, 120, 105, 114, 46, 77, 8, 95, 95, 105, 110, 102, 111, 95, 95, 9, 102, 117, 110, 99, ...>>, {:f, 1}}"
      ]
     },
     "execution_count": 47,
     "metadata": {},
     "output_type": "execute_result"
    }
   ],
   "source": [
    "defmodule M do\n",
    "  def f([fu: x, bar: y] \\\\ [fu: 5, bar: 3]) do\n",
    "    x * y\n",
    "  end\n",
    "end"
   ]
  },
  {
   "cell_type": "code",
   "execution_count": 48,
   "metadata": {
    "collapsed": false
   },
   "outputs": [
    {
     "data": {
      "text/plain": [
       "15"
      ]
     },
     "execution_count": 48,
     "metadata": {},
     "output_type": "execute_result"
    }
   ],
   "source": [
    "M.f()"
   ]
  },
  {
   "cell_type": "code",
   "execution_count": 49,
   "metadata": {
    "collapsed": false
   },
   "outputs": [
    {
     "data": {
      "text/plain": [
       "1"
      ]
     },
     "execution_count": 49,
     "metadata": {},
     "output_type": "execute_result"
    }
   ],
   "source": [
    "M.f(fu: 1, bar: 1)"
   ]
  },
  {
   "cell_type": "code",
   "execution_count": 50,
   "metadata": {
    "collapsed": false
   },
   "outputs": [
    {
     "data": {
      "text/plain": [
       "{:module, Generator.Character.PrintableASCII, <<70, 79, 82, 49, 0, 0, 6, 236, 66, 69, 65, 77, 65, 116, 85, 56, 0, 0, 1, 20, 0, 0, 0, 24, 41, 69, 108, 105, 120, 105, 114, 46, 71, 101, 110, 101, 114, 97, 116, 111, 114, 46, 67, 104, 97, 114, 97, ...>>, {:upper_bound, 0}}"
      ]
     },
     "execution_count": 50,
     "metadata": {},
     "output_type": "execute_result"
    }
   ],
   "source": [
    "defmodule Generator.Character.PrintableASCII do\n",
    "  def stream do\n",
    "    Caffeine.Stream.map(Generator.BoundNatural.stream(limit: length()), &value/1)\n",
    "  end\n",
    "\n",
    "  def value(x) when is_integer(x) do\n",
    "    lower_bound() + x\n",
    "  end\n",
    "\n",
    "  defp length do\n",
    "    upper_bound - lower_bound\n",
    "  end\n",
    "\n",
    "  defp lower_bound do\n",
    "    ?\\s\n",
    "  end\n",
    "\n",
    "  defp upper_bound do\n",
    "    ?~\n",
    "  end\n",
    "end"
   ]
  },
  {
   "cell_type": "code",
   "execution_count": 51,
   "metadata": {
    "collapsed": false
   },
   "outputs": [
    {
     "data": {
      "text/plain": [
       "'!he@E'"
      ]
     },
     "execution_count": 51,
     "metadata": {},
     "output_type": "execute_result"
    }
   ],
   "source": [
    "Caffeine.Stream.take(Generator.Character.PrintableASCII.stream(), 5)"
   ]
  },
  {
   "cell_type": "code",
   "execution_count": 52,
   "metadata": {
    "collapsed": false
   },
   "outputs": [
    {
     "data": {
      "text/plain": [
       "'%'"
      ]
     },
     "execution_count": 52,
     "metadata": {},
     "output_type": "execute_result"
    }
   ],
   "source": [
    "[Generator.Character.PrintableASCII.value(5)]"
   ]
  },
  {
   "cell_type": "code",
   "execution_count": 53,
   "metadata": {
    "collapsed": false
   },
   "outputs": [
    {
     "data": {
      "text/plain": [
       "' '"
      ]
     },
     "execution_count": 53,
     "metadata": {},
     "output_type": "execute_result"
    }
   ],
   "source": [
    "[Generator.Character.PrintableASCII.value(0)]"
   ]
  },
  {
   "cell_type": "code",
   "execution_count": 54,
   "metadata": {
    "collapsed": false
   },
   "outputs": [
    {
     "data": {
      "text/plain": [
       "[287]"
      ]
     },
     "execution_count": 54,
     "metadata": {},
     "output_type": "execute_result"
    }
   ],
   "source": [
    "[Generator.Character.PrintableASCII.value(255)]"
   ]
  },
  {
   "cell_type": "code",
   "execution_count": 55,
   "metadata": {
    "collapsed": false
   },
   "outputs": [
    {
     "data": {
      "text/plain": [
       "{:module, M, <<70, 79, 82, 49, 0, 0, 4, 100, 66, 69, 65, 77, 65, 116, 85, 56, 0, 0, 0, 134, 0, 0, 0, 16, 8, 69, 108, 105, 120, 105, 114, 46, 77, 8, 95, 95, 105, 110, 102, 111, 95, 95, 9, 102, 117, 110, 99, ...>>, {:f, 1}}"
      ]
     },
     "execution_count": 55,
     "metadata": {},
     "output_type": "execute_result"
    }
   ],
   "source": [
    "defmodule M do\n",
    "  def f(arity: 0, return: r) do\n",
    "  end\n",
    "  def f(arity: 1, return: r) do\n",
    "  end\n",
    "  def f(arity: 2, return: r) do\n",
    "  end\n",
    "end"
   ]
  },
  {
   "cell_type": "code",
   "execution_count": 56,
   "metadata": {
    "collapsed": false
   },
   "outputs": [
    {
     "ename": "FunctionClauseError",
     "evalue": "1",
     "output_type": "error",
     "traceback": [
      "** %FunctionClauseError{args: nil, arity: 1, clauses: nil, function: :f, kind: nil, module: M}"
     ]
    }
   ],
   "source": [
    "M.f(arity: 5, return: nil)"
   ]
  },
  {
   "cell_type": "code",
   "execution_count": 56,
   "metadata": {
    "collapsed": false
   },
   "outputs": [
    {
     "data": {
      "text/plain": [
       "nil"
      ]
     },
     "execution_count": 56,
     "metadata": {},
     "output_type": "execute_result"
    }
   ],
   "source": [
    "## Call site reability"
   ]
  },
  {
   "cell_type": "code",
   "execution_count": 57,
   "metadata": {
    "collapsed": false
   },
   "outputs": [
    {
     "data": {
      "text/plain": [
       "{:module, M, <<70, 79, 82, 49, 0, 0, 4, 172, 66, 69, 65, 77, 65, 116, 85, 56, 0, 0, 0, 135, 0, 0, 0, 17, 8, 69, 108, 105, 120, 105, 114, 46, 77, 8, 95, 95, 105, 110, 102, 111, 95, 95, 9, 102, 117, 110, 99, ...>>, {:f2, 1}}"
      ]
     },
     "execution_count": 57,
     "metadata": {},
     "output_type": "execute_result"
    }
   ],
   "source": [
    "defmodule M do\n",
    "  def f0(return: r) do\n",
    "  end\n",
    "\n",
    "  def f1(return: r) do\n",
    "  end\n",
    "\n",
    "  def f2(return: r) do\n",
    "  end\n",
    "end"
   ]
  },
  {
   "cell_type": "markdown",
   "metadata": {},
   "source": [
    "# Good tests\n",
    "\n",
    "\n",
    "* distict test case\n",
    "* explicit"
   ]
  },
  {
   "cell_type": "code",
   "execution_count": 58,
   "metadata": {
    "collapsed": false
   },
   "outputs": [
    {
     "data": {
      "text/plain": [
       "{:module, KernelTest, <<70, 79, 82, 49, 0, 0, 10, 56, 66, 69, 65, 77, 65, 116, 85, 56, 0, 0, 1, 65, 0, 0, 0, 30, 17, 69, 108, 105, 120, 105, 114, 46, 75, 101, 114, 110, 101, 108, 84, 101, 115, 116, 8, 95, 95, 105, 110, ...>>, {:\"test abs/1 is always positve\", 1}}"
      ]
     },
     "execution_count": 58,
     "metadata": {},
     "output_type": "execute_result"
    }
   ],
   "source": [
    "defmodule KernelTest do\n",
    "  use ExUnit.Case\n",
    "\n",
    "  test \"abs/1 is always positve\" do\n",
    "    table = [\n",
    "      {-5, +5}, ## -ve\n",
    "      {0,  0},\n",
    "      {+3, +3} ## +ve\n",
    "    ]\n",
    "    for {i, o} <- table do\n",
    "      assert Kernel.abs(i) === o\n",
    "    end\n",
    "  end\n",
    "end"
   ]
  },
  {
   "cell_type": "code",
   "execution_count": 59,
   "metadata": {
    "collapsed": false
   },
   "outputs": [
    {
     "data": {
      "text/plain": [
       ":ok"
      ]
     },
     "execution_count": 59,
     "metadata": {},
     "output_type": "execute_result"
    }
   ],
   "source": [
    "KernelTest.\"test abs/1 is always positve\"(%{})"
   ]
  },
  {
   "cell_type": "code",
   "execution_count": 60,
   "metadata": {
    "collapsed": false
   },
   "outputs": [
    {
     "ename": "CompileError",
     "evalue": "1",
     "output_type": "error",
     "traceback": [
      "** (CompileError) console:9 \"undefined function byte/1\""
     ]
    }
   ],
   "source": [
    "defmodule PoisonTest do\n",
    "  use ExUnit.Case\n",
    "\n",
    "  test \"\" do\n",
    "    ## {\"fu\": \"bar\"}\n",
    "    key = 4\n",
    "    value = 5\n",
    "    struct = 4\n",
    "    assert byte(Poison.encode(%{fu: \"bar\"})) === key + value + struct\n",
    "  end\n",
    "end"
   ]
  },
  {
   "cell_type": "code",
   "execution_count": 60,
   "metadata": {
    "collapsed": false
   },
   "outputs": [
    {
     "data": {
      "text/plain": [
       "{:module, Generator.Character.PrintableASCII, <<70, 79, 82, 49, 0, 0, 6, 164, 66, 69, 65, 77, 65, 116, 85, 56, 0, 0, 1, 14, 0, 0, 0, 23, 41, 69, 108, 105, 120, 105, 114, 46, 71, 101, 110, 101, 114, 97, 116, 111, 114, 46, 67, 104, 97, 114, 97, ...>>, {:upper_bound, 0}}"
      ]
     },
     "execution_count": 60,
     "metadata": {},
     "output_type": "execute_result"
    }
   ],
   "source": [
    "defmodule Generator.Character.PrintableASCII do\n",
    "  def stream do\n",
    "    f = fn (x) ->\n",
    "      lower_bound() + x\n",
    "    end\n",
    "    Caffeine.Stream.map(Generator.BoundNatural.stream(limit: length()), f)\n",
    "  end\n",
    "\n",
    "  defp length do\n",
    "    upper_bound - lower_bound\n",
    "  end\n",
    "\n",
    "  defp lower_bound do\n",
    "    ?\\s\n",
    "  end\n",
    "\n",
    "  defp upper_bound do\n",
    "    ?~\n",
    "  end\n",
    "end"
   ]
  },
  {
   "cell_type": "code",
   "execution_count": 61,
   "metadata": {
    "collapsed": false
   },
   "outputs": [
    {
     "data": {
      "text/plain": [
       "'!he@E@?l{$w@7$O:!2[:-LIBG@[&!^7:gp]f% W4S8qjgve,s@#$}vul?B;(GLGZ_J9Ha>!B%8#T]6q^iD[hY\"kJM\\\\-8u4?,'"
      ]
     },
     "execution_count": 61,
     "metadata": {},
     "output_type": "execute_result"
    }
   ],
   "source": [
    "Caffeine.Stream.take(Generator.Character.PrintableASCII.stream(), 96)"
   ]
  },
  {
   "cell_type": "code",
   "execution_count": 62,
   "metadata": {
    "collapsed": false
   },
   "outputs": [
    {
     "ename": "FunctionClauseError",
     "evalue": "1",
     "output_type": "error",
     "traceback": [
      "** %FunctionClauseError{args: nil, arity: 2, clauses: nil, function: :take_list, kind: nil, module: Enum}"
     ]
    }
   ],
   "source": [
    "Enum.take(Generator.Character.PrintableASCII.stream(), 96)"
   ]
  },
  {
   "cell_type": "code",
   "execution_count": 62,
   "metadata": {
    "collapsed": false
   },
   "outputs": [
    {
     "data": {
      "text/plain": [
       "[1, 2, 3, 4, 5]"
      ]
     },
     "execution_count": 62,
     "metadata": {},
     "output_type": "execute_result"
    }
   ],
   "source": [
    "Enum.take(1..100, 5)"
   ]
  },
  {
   "cell_type": "code",
   "execution_count": 63,
   "metadata": {
    "collapsed": false
   },
   "outputs": [
    {
     "data": {
      "text/plain": [
       "{:module, Generator.Character.PrintableASCII, <<70, 79, 82, 49, 0, 0, 8, 176, 66, 69, 65, 77, 65, 116, 85, 56, 0, 0, 1, 77, 0, 0, 0, 29, 41, 69, 108, 105, 120, 105, 114, 46, 71, 101, 110, 101, 114, 97, 116, 111, 114, 46, 67, 104, 97, 114, 97, ...>>, {:upper_bound, 0}}"
      ]
     },
     "execution_count": 63,
     "metadata": {},
     "output_type": "execute_result"
    }
   ],
   "source": [
    "defmodule Generator.Character.PrintableASCII do\n",
    "  defstruct [\n",
    "    :stream\n",
    "  ]\n",
    "\n",
    "  def stream do\n",
    "    f = fn (x) ->\n",
    "      lower_bound() + x\n",
    "    end\n",
    "    Caffeine.Stream.map(Generator.BoundNatural.stream(limit: length()), f)\n",
    "  end\n",
    "\n",
    "  defp length do\n",
    "    upper_bound - lower_bound\n",
    "  end\n",
    "\n",
    "  defp lower_bound do\n",
    "    ?\\s\n",
    "  end\n",
    "\n",
    "  defp upper_bound do\n",
    "    ?~\n",
    "  end\n",
    "end"
   ]
  },
  {
   "cell_type": "code",
   "execution_count": 64,
   "metadata": {
    "collapsed": false
   },
   "outputs": [
    {
     "data": {
      "text/plain": [
       "{:module, Enumerable.Generator.Character.PrintableASCII, <<70, 79, 82, 49, 0, 0, 5, 232, 66, 69, 65, 77, 65, 116, 85, 56, 0, 0, 0, 248, 0, 0, 0, 18, 52, 69, 108, 105, 120, 105, 114, 46, 69, 110, 117, 109, 101, 114, 97, 98, 108, 101, 46, 71, 101, 110, 101, ...>>, {:__impl__, 1}}"
      ]
     },
     "execution_count": 64,
     "metadata": {},
     "output_type": "execute_result"
    }
   ],
   "source": [
    "defimpl Enumerable, for: Generator.Character.PrintableASCII do\n",
    "end"
   ]
  },
  {
   "cell_type": "code",
   "execution_count": 65,
   "metadata": {
    "collapsed": false
   },
   "outputs": [
    {
     "data": {
      "text/plain": [
       "%Generator.Character.PrintableASCII{stream: nil}"
      ]
     },
     "execution_count": 65,
     "metadata": {},
     "output_type": "execute_result"
    }
   ],
   "source": [
    "%Generator.Character.PrintableASCII{}"
   ]
  },
  {
   "cell_type": "code",
   "execution_count": 66,
   "metadata": {
    "collapsed": false
   },
   "outputs": [
    {
     "data": {
      "text/plain": [
       "{:module, Enumerable.Generator.Character.PrintableASCII, <<70, 79, 82, 49, 0, 0, 9, 180, 66, 69, 65, 77, 65, 116, 85, 56, 0, 0, 1, 142, 0, 0, 0, 36, 52, 69, 108, 105, 120, 105, 114, 46, 69, 110, 117, 109, 101, 114, 97, 98, 108, 101, 46, 71, 101, 110, 101, ...>>, {:__impl__, 1}}"
      ]
     },
     "execution_count": 66,
     "metadata": {},
     "output_type": "execute_result"
    }
   ],
   "source": [
    "defimpl Enumerable, for: Generator.Character.PrintableASCII do\n",
    "\n",
    "  def reduce(_, {:halt, acc}, _) do\n",
    "    {:halted, acc}\n",
    "  end\n",
    "  def reduce(s, {:suspend, acc}, f) do\n",
    "    {:suspend, acc, &reduce(s, &1, f)}\n",
    "  end\n",
    "  def reduce(s, {:cont, acc}, f) do\n",
    "    import Caffeine.Stream\n",
    "\n",
    "    s = s.stream\n",
    "    cond do\n",
    "      sentinel?(s) ->\n",
    "        {:done, acc}\n",
    "      construct?(s) ->\n",
    "        reduce(tail(s), f.(head(s), acc), f)\n",
    "    end\n",
    "  end\n",
    "end"
   ]
  },
  {
   "cell_type": "code",
   "execution_count": 67,
   "metadata": {
    "collapsed": false
   },
   "outputs": [
    {
     "data": {
      "text/plain": [
       "{:module, Enumerable.Generator.Character.PrintableASCII, <<70, 79, 82, 49, 0, 0, 10, 220, 66, 69, 65, 77, 65, 116, 85, 56, 0, 0, 1, 166, 0, 0, 0, 39, 52, 69, 108, 105, 120, 105, 114, 46, 69, 110, 117, 109, 101, 114, 97, 98, 108, 101, 46, 71, 101, 110, 101, ...>>, {:__impl__, 1}}"
      ]
     },
     "execution_count": 67,
     "metadata": {},
     "output_type": "execute_result"
    }
   ],
   "source": [
    "defimpl Enumerable, for: Generator.Character.PrintableASCII do\n",
    "\n",
    "  def count(_) do\n",
    "    {:error, Generator.Character.PrintableASCII}\n",
    "  end\n",
    "\n",
    "  def member(_) do\n",
    "    {:error, Generator.Character.PrintableASCII}\n",
    "  end\n",
    "\n",
    "  def count(_) do\n",
    "    {:error, Generator.Character.PrintableASCII}\n",
    "  end\n",
    "\n",
    "  def reduce(_, {:halt, acc}, _) do\n",
    "    {:halted, acc}\n",
    "  end\n",
    "  def reduce(s, {:suspend, acc}, f) do\n",
    "    {:suspend, acc, &reduce(s, &1, f)}\n",
    "  end\n",
    "  def reduce(s, {:cont, acc}, f) do\n",
    "    import Caffeine.Stream\n",
    "\n",
    "    s = s.stream\n",
    "    cond do\n",
    "      sentinel?(s) ->\n",
    "        {:done, acc}\n",
    "      construct?(s) ->\n",
    "        reduce(%Generator.Character.PrintableASCII{stream: tail(s)}, f.(head(s), acc), f)\n",
    "    end\n",
    "  end\n",
    "end"
   ]
  },
  {
   "cell_type": "code",
   "execution_count": 68,
   "metadata": {
    "collapsed": false
   },
   "outputs": [
    {
     "data": {
      "text/plain": [
       "%Generator.Character.PrintableASCII{stream: [33 | #Function<1.9917893/0 in Caffeine.Stream.map/2>]}"
      ]
     },
     "execution_count": 68,
     "metadata": {},
     "output_type": "execute_result"
    }
   ],
   "source": [
    "s = Generator.Character.PrintableASCII.stream()\n",
    "generator = %Generator.Character.PrintableASCII{stream: s}"
   ]
  },
  {
   "cell_type": "code",
   "execution_count": 69,
   "metadata": {
    "collapsed": false
   },
   "outputs": [
    {
     "data": {
      "text/plain": [
       "'!he'"
      ]
     },
     "execution_count": 69,
     "metadata": {},
     "output_type": "execute_result"
    }
   ],
   "source": [
    "Enum.take(generator, 3)"
   ]
  },
  {
   "cell_type": "code",
   "execution_count": 70,
   "metadata": {
    "collapsed": false
   },
   "outputs": [
    {
     "data": {
      "text/plain": [
       "{:module, Generator.Character.PrintableASCII, <<70, 79, 82, 49, 0, 0, 8, 240, 66, 69, 65, 77, 65, 116, 85, 56, 0, 0, 1, 77, 0, 0, 0, 29, 41, 69, 108, 105, 120, 105, 114, 46, 71, 101, 110, 101, 114, 97, 116, 111, 114, 46, 67, 104, 97, 114, 97, ...>>, {:upper_bound, 0}}"
      ]
     },
     "execution_count": 70,
     "metadata": {},
     "output_type": "execute_result"
    }
   ],
   "source": [
    "defmodule Generator.Character.PrintableASCII do\n",
    "  defstruct [\n",
    "    :stream\n",
    "  ]\n",
    "\n",
    "  def stream do\n",
    "    f = fn (x) ->\n",
    "      lower_bound() + x\n",
    "    end\n",
    "    s = Caffeine.Stream.map(Generator.BoundNatural.stream(limit: length()), f)\n",
    "    %__MODULE__{\n",
    "      stream: s\n",
    "    }\n",
    "  end\n",
    "\n",
    "  defp length do\n",
    "    upper_bound - lower_bound\n",
    "  end\n",
    "\n",
    "  defp lower_bound do\n",
    "    ?\\s\n",
    "  end\n",
    "\n",
    "  defp upper_bound do\n",
    "    ?~\n",
    "  end\n",
    "end"
   ]
  },
  {
   "cell_type": "code",
   "execution_count": 71,
   "metadata": {
    "collapsed": false
   },
   "outputs": [
    {
     "data": {
      "text/plain": [
       "%Generator.Character.PrintableASCII{stream: [33 | #Function<1.9917893/0 in Caffeine.Stream.map/2>]}"
      ]
     },
     "execution_count": 71,
     "metadata": {},
     "output_type": "execute_result"
    }
   ],
   "source": [
    "generator = Generator.Character.PrintableASCII.stream()"
   ]
  },
  {
   "cell_type": "code",
   "execution_count": 72,
   "metadata": {
    "collapsed": false
   },
   "outputs": [
    {
     "data": {
      "text/plain": [
       "'!he'"
      ]
     },
     "execution_count": 72,
     "metadata": {},
     "output_type": "execute_result"
    }
   ],
   "source": [
    "Enum.take(generator, 3)"
   ]
  },
  {
   "cell_type": "code",
   "execution_count": 73,
   "metadata": {
    "collapsed": false
   },
   "outputs": [
    {
     "data": {
      "text/plain": [
       "{:module, Enumerable.Generator.Character.PrintableASCII, <<70, 79, 82, 49, 0, 0, 11, 24, 66, 69, 65, 77, 65, 116, 85, 56, 0, 0, 1, 164, 0, 0, 0, 39, 52, 69, 108, 105, 120, 105, 114, 46, 69, 110, 117, 109, 101, 114, 97, 98, 108, 101, 46, 71, 101, 110, 101, ...>>, {:__impl__, 1}}"
      ]
     },
     "execution_count": 73,
     "metadata": {},
     "output_type": "execute_result"
    }
   ],
   "source": [
    "defimpl Enumerable, for: Generator.Character.PrintableASCII do\n",
    "\n",
    "  def count(_) do\n",
    "    {:error, Generator.Character.PrintableASCII}\n",
    "  end\n",
    "\n",
    "  def member(_) do\n",
    "    {:error, Generator.Character.PrintableASCII}\n",
    "  end\n",
    "\n",
    "  def count(_) do\n",
    "    {:error, Generator.Character.PrintableASCII}\n",
    "  end\n",
    "\n",
    "  def reduce(s, state, f) do\n",
    "    _reduce(s.stream, state, f)\n",
    "  end\n",
    "\n",
    "  def _reduce(_, {:halt, acc}, _) do\n",
    "    {:halted, acc}\n",
    "  end\n",
    "  def _reduce(s, {:suspend, acc}, f) do\n",
    "    {:suspend, acc, &_reduce(s, &1, f)}\n",
    "  end\n",
    "  def _reduce(s, {:cont, acc}, f) do\n",
    "    import Caffeine.Stream\n",
    "\n",
    "    cond do\n",
    "      sentinel?(s) ->\n",
    "        {:done, acc}\n",
    "      construct?(s) ->\n",
    "        _reduce(tail(s), f.(head(s), acc), f)\n",
    "    end\n",
    "  end\n",
    "end"
   ]
  },
  {
   "cell_type": "code",
   "execution_count": 74,
   "metadata": {
    "collapsed": false
   },
   "outputs": [
    {
     "data": {
      "text/plain": [
       "'!he@E'"
      ]
     },
     "execution_count": 74,
     "metadata": {},
     "output_type": "execute_result"
    }
   ],
   "source": [
    "Enum.take(generator, 5)"
   ]
  },
  {
   "cell_type": "code",
   "execution_count": null,
   "metadata": {
    "collapsed": true
   },
   "outputs": [],
   "source": []
  },
  {
   "cell_type": "code",
   "execution_count": 75,
   "metadata": {
    "collapsed": false
   },
   "outputs": [
    {
     "data": {
      "text/plain": [
       "5"
      ]
     },
     "execution_count": 75,
     "metadata": {},
     "output_type": "execute_result"
    }
   ],
   "source": [
    "3 + 2"
   ]
  },
  {
   "cell_type": "code",
   "execution_count": 79,
   "metadata": {
    "collapsed": false
   },
   "outputs": [
    {
     "data": {
      "text/plain": [
       "{:module, S, <<70, 79, 82, 49, 0, 0, 7, 184, 66, 69, 65, 77, 65, 116, 85, 56, 0, 0, 1, 10, 0, 0, 0, 30, 8, 69, 108, 105, 120, 105, 114, 46, 83, 8, 95, 95, 105, 110, 102, 111, 95, 95, 9, 102, 117, 110, 99, ...>>, {:_take, 2}}"
      ]
     },
     "execution_count": 79,
     "metadata": {},
     "output_type": "execute_result"
    }
   ],
   "source": [
    "defmodule S do\n",
    "  import Caffeine\n",
    "\n",
    "    def take(s, n) do\n",
    "      %{ s | stream: _take(s.stream, n)}\n",
    "    end\n",
    "\n",
    "    def _take(s, n) when is_integer(n) and n > 0 do\n",
    "      import Caffeine.Stream, except: [take: 2]\n",
    "\n",
    "      cond do\n",
    "        sentinel?(s) ->\n",
    "          sentinel()\n",
    "\n",
    "        construct?(s) ->\n",
    "          g = fn -> _take(tail(s), n - 1) end\n",
    "          construct(head(s), g)\n",
    "      end\n",
    "    end\n",
    "    def _take(_, 0) do\n",
    "      Caffeine.Stream.sentinel()\n",
    "    end\n",
    "end"
   ]
  },
  {
   "cell_type": "code",
   "execution_count": 80,
   "metadata": {
    "collapsed": false
   },
   "outputs": [
    {
     "data": {
      "text/plain": [
       "'!he@E'"
      ]
     },
     "execution_count": 80,
     "metadata": {},
     "output_type": "execute_result"
    }
   ],
   "source": [
    "Enum.take(S.take(generator, 5), 10)"
   ]
  },
  {
   "cell_type": "code",
   "execution_count": 81,
   "metadata": {
    "collapsed": false
   },
   "outputs": [
    {
     "data": {
      "text/plain": [
       "'!he@E'"
      ]
     },
     "execution_count": 81,
     "metadata": {},
     "output_type": "execute_result"
    }
   ],
   "source": [
    "for e <- S.take(generator, 5) do\n",
    "  e\n",
    "end"
   ]
  },
  {
   "cell_type": "code",
   "execution_count": 2,
   "metadata": {
    "collapsed": false
   },
   "outputs": [
    {
     "data": {
      "text/plain": [
       "{:module, Orange.Natural, <<70, 79, 82, 49, 0, 0, 5, 32, 66, 69, 65, 77, 65, 116, 85, 56, 0, 0, 0, 186, 0, 0, 0, 18, 21, 69, 108, 105, 120, 105, 114, 46, 79, 114, 97, 110, 103, 101, 46, 78, 97, 116, 117, 114, 97, 108, 8, ...>>, {:increment, 1}}"
      ]
     },
     "execution_count": 2,
     "metadata": {},
     "output_type": "execute_result"
    }
   ],
   "source": [
    "defmodule Orange.Natural do\n",
    "  def stream do\n",
    "    Stream.iterate(0, &increment/1)\n",
    "  end\n",
    "\n",
    "  defp increment(x) do\n",
    "    x + 1\n",
    "  end\n",
    "end"
   ]
  },
  {
   "cell_type": "code",
   "execution_count": 3,
   "metadata": {
    "collapsed": false
   },
   "outputs": [
    {
     "data": {
      "text/plain": [
       "[0, 1, 2, 3, 4]"
      ]
     },
     "execution_count": 3,
     "metadata": {},
     "output_type": "execute_result"
    }
   ],
   "source": [
    "Enum.take Orange.Natural.stream(), 5"
   ]
  }
 ],
 "metadata": {
  "kernelspec": {
   "display_name": "Elixir",
   "language": "Elixir",
   "name": "ielixir"
  },
  "language_info": {
   "codemirror_mode": "elixir",
   "file_extension": "ex",
   "mimetype": "text/x-elixir",
   "name": "elixir",
   "nbconvert_exporter": "",
   "pygments_lexer": "elixir",
   "version": "#Version<1.6.2>"
  }
 },
 "nbformat": 4,
 "nbformat_minor": 1
}
