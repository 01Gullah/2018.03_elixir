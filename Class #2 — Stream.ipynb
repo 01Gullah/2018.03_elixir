{
 "cells": [
  {
   "cell_type": "markdown",
   "metadata": {},
   "source": [
    "## Let's Start Where We Left Off"
   ]
  },
  {
   "cell_type": "code",
   "execution_count": 1,
   "metadata": {
    "collapsed": false
   },
   "outputs": [
    {
     "data": {
      "text/plain": [
       "{:module, LCG, <<70, 79, 82, 49, 0, 0, 6, 180, 66, 69, 65, 77, 65, 116, 85, 56, 0, 0, 0, 226, 0, 0, 0, 24, 10, 69, 108, 105, 120, 105, 114, 46, 76, 67, 71, 8, 95, 95, 105, 110, 102, 111, 95, 95, 9, 102, 117, ...>>, {:instance, 1}}"
      ]
     },
     "execution_count": 1,
     "metadata": {},
     "output_type": "execute_result"
    }
   ],
   "source": [
    "defmodule LCG do\n",
    "  defmodule Parameters do\n",
    "    defstruct [\n",
    "      modulus:    9,\n",
    "      multiplier: 2,\n",
    "      increment:  0\n",
    "    ]\n",
    "\n",
    "    def okay?(p) do\n",
    "      m = p.modulus\n",
    "      a = p.multiplier\n",
    "      c = p.increment\n",
    "      \n",
    "      x = 0 < m\n",
    "      y = (0 < a and a < m)\n",
    "      z = (0 <= c and c < m)\n",
    "\n",
    "      x and y and z\n",
    "    end\n",
    "  end\n",
    "\n",
    "  def instance(p) do\n",
    "    m = p.modulus; a = p.multiplier; c = p.increment\n",
    "    fn s when 0 <= s and s < m ->\n",
    "      Integer.mod(a * s + c, m)\n",
    "    end\n",
    "  end\n",
    "end"
   ]
  },
  {
   "cell_type": "code",
   "execution_count": 2,
   "metadata": {
    "collapsed": false
   },
   "outputs": [
    {
     "data": {
      "text/plain": [
       "#Function<0.60318236/1 in LCG.instance/1>"
      ]
     },
     "execution_count": 2,
     "metadata": {},
     "output_type": "execute_result"
    }
   ],
   "source": [
    "x = %LCG.Parameters{\n",
    "  modulus:    9,\n",
    "  multiplier: 2,\n",
    "  increment:  0\n",
    "}\n",
    "true = LCG.Parameters.okay?(x)\n",
    "f = LCG.instance(x)"
   ]
  },
  {
   "cell_type": "markdown",
   "metadata": {},
   "source": [
    "## Motivation: API"
   ]
  },
  {
   "cell_type": "markdown",
   "metadata": {},
   "source": [
    "## Aside: Enum & Stream"
   ]
  },
  {
   "cell_type": "markdown",
   "metadata": {},
   "source": [
    "---"
   ]
  },
  {
   "cell_type": "markdown",
   "metadata": {},
   "source": [
    "## Aside: A Guide To Lists & Pairs"
   ]
  },
  {
   "cell_type": "markdown",
   "metadata": {},
   "source": [
    "---"
   ]
  },
  {
   "cell_type": "markdown",
   "metadata": {},
   "source": [
    "## LCG Stream: Two Pieces Of State"
   ]
  },
  {
   "cell_type": "markdown",
   "metadata": {},
   "source": [
    "## Eager API"
   ]
  },
  {
   "cell_type": "markdown",
   "metadata": {},
   "source": [
    "## MMIX Generator"
   ]
  },
  {
   "cell_type": "markdown",
   "metadata": {},
   "source": [
    "## Lazy API"
   ]
  },
  {
   "cell_type": "markdown",
   "metadata": {},
   "source": [
    "## @ Home\n",
    "\n",
    "1. Have a look at [Caffeine](https://github.com/Dzol/caffeine), fork it (or declare it as a dependecy in a Mix project), and write a stream for at least three of the following:\n",
    "\n",
    "  - the same value, again-and-again, infinitely.\n",
    "    E.g. if the given value is the float 3.14:\n",
    "    ```Elixir\n",
    "    take(s, 5) === [3.14, 3.14, 3.14, 3.14, 3.14]\n",
    "    ```\n",
    "  - consecutive natural numbers.\n",
    "    E.g.:\n",
    "    ```Elixir\n",
    "    take(s, 5) === [0,1,2,3,4]\n",
    "    ```\n",
    "  - consecutive integers.\n",
    "    E.g. if the given first integer is 5:\n",
    "    ```Elixir\n",
    "    take(s, 5) === [5,6,7,8,9]\n",
    "    ```\n",
    "  - consecutive square (or cube) numbers\n",
    "  - consecutive odd (or even) numbers\n",
    "  - the numbers in an arbitrary interval (like Elixir's `Range`)\n",
    "  - a list\n",
    "    E.g. if the given list is [\"I'm\", \"inside\", \"of\", \"a\", \"list\", \"!\"]:\n",
    "    ```Elixir\n",
    "    take(s, 5) == [\"I'm\", \"inside\", \"of\", \"a\", \"list\"]\n",
    "    ```\n",
    "  - fibonacci\n",
    "  - factorial\n",
    "  - the contents of a file line-by-line\n",
    "  - prime numbers\n",
    "\n",
    "  Caffeine's documentation: https://hexdocs.pm/caffeine/1.2.0/Caffeine.Stream.html\n",
    "\n",
    "\n",
    "2. Compare and contrast Caffeine's API with the API for the stream we wrote above.\n",
    "\n",
    "3. Critically evaluate the similarities and differences from your answer to question 2.\n",
    "\n",
    "4. Elixir has a [stream data strucutre and an API](https://hexdocs.pm/elixir/Stream.html#content) of its own: which of the functions that Caffeine has in common differ substancially in behaviour and how?"
   ]
  },
  {
   "cell_type": "code",
   "execution_count": 3,
   "metadata": {
    "collapsed": false
   },
   "outputs": [
    {
     "data": {
      "text/plain": [
       "1"
      ]
     },
     "execution_count": 3,
     "metadata": {},
     "output_type": "execute_result"
    }
   ],
   "source": [
    "1"
   ]
  },
  {
   "cell_type": "code",
   "execution_count": 5,
   "metadata": {
    "collapsed": false
   },
   "outputs": [
    {
     "data": {
      "text/plain": [
       "2"
      ]
     },
     "execution_count": 5,
     "metadata": {},
     "output_type": "execute_result"
    }
   ],
   "source": [
    "f.(1)"
   ]
  },
  {
   "cell_type": "code",
   "execution_count": 6,
   "metadata": {
    "collapsed": false
   },
   "outputs": [
    {
     "data": {
      "text/plain": [
       "8"
      ]
     },
     "execution_count": 6,
     "metadata": {},
     "output_type": "execute_result"
    }
   ],
   "source": [
    "f.(f.(f.(1)))"
   ]
  },
  {
   "cell_type": "code",
   "execution_count": 8,
   "metadata": {
    "collapsed": false
   },
   "outputs": [
    {
     "data": {
      "text/plain": [
       "[1, 2, 3, 4, 5]"
      ]
     },
     "execution_count": 8,
     "metadata": {},
     "output_type": "execute_result"
    }
   ],
   "source": [
    "Enum.take(1..10, 5)"
   ]
  },
  {
   "cell_type": "code",
   "execution_count": 9,
   "metadata": {
    "collapsed": false
   },
   "outputs": [
    {
     "data": {
      "text/plain": [
       "[1, 2, 3, 4, 5, 6, 7, 8, 9, 10]"
      ]
     },
     "execution_count": 9,
     "metadata": {},
     "output_type": "execute_result"
    }
   ],
   "source": [
    "Enum.take(1..10, 12)"
   ]
  },
  {
   "cell_type": "code",
   "execution_count": 10,
   "metadata": {
    "collapsed": false
   },
   "outputs": [
    {
     "data": {
      "text/plain": [
       "[1, 2, 4, 8, 7, 5]"
      ]
     },
     "execution_count": 10,
     "metadata": {},
     "output_type": "execute_result"
    }
   ],
   "source": [
    "Enum.take(Stream.iterate(1, f), 6)"
   ]
  },
  {
   "cell_type": "code",
   "execution_count": 12,
   "metadata": {
    "collapsed": false
   },
   "outputs": [
    {
     "data": {
      "text/plain": [
       "[1, 2, 3]"
      ]
     },
     "execution_count": 12,
     "metadata": {},
     "output_type": "execute_result"
    }
   ],
   "source": [
    "x = [1, 2, 3]"
   ]
  },
  {
   "cell_type": "code",
   "execution_count": 13,
   "metadata": {
    "collapsed": false
   },
   "outputs": [
    {
     "data": {
      "text/plain": [
       "[\"1\", \"2\", \"3\"]"
      ]
     },
     "execution_count": 13,
     "metadata": {},
     "output_type": "execute_result"
    }
   ],
   "source": [
    "x = [1, 2, 3]\n",
    "Enum.map(x, &Integer.to_string/1)"
   ]
  },
  {
   "cell_type": "code",
   "execution_count": 14,
   "metadata": {
    "collapsed": false
   },
   "outputs": [
    {
     "data": {
      "text/plain": [
       "#Function<64.129278153/2 in Stream.unfold/2>"
      ]
     },
     "execution_count": 14,
     "metadata": {},
     "output_type": "execute_result"
    }
   ],
   "source": [
    "Stream.iterate(1, f)"
   ]
  },
  {
   "cell_type": "code",
   "execution_count": 15,
   "metadata": {
    "collapsed": false
   },
   "outputs": [
    {
     "data": {
      "text/plain": [
       "[1, 2, 4, 8, 7, 5]"
      ]
     },
     "execution_count": 15,
     "metadata": {},
     "output_type": "execute_result"
    }
   ],
   "source": [
    "Enum.take(Stream.iterate(1, f), 6)"
   ]
  },
  {
   "cell_type": "code",
   "execution_count": 16,
   "metadata": {
    "collapsed": false
   },
   "outputs": [
    {
     "data": {
      "text/plain": [
       "[1, 2, 4, 8, 7, 5, 1, 2, 4, 8, 7, 5]"
      ]
     },
     "execution_count": 16,
     "metadata": {},
     "output_type": "execute_result"
    }
   ],
   "source": [
    "Enum.take(Stream.iterate(1, f), 12)"
   ]
  },
  {
   "cell_type": "code",
   "execution_count": 17,
   "metadata": {
    "collapsed": false
   },
   "outputs": [
    {
     "data": {
      "text/plain": [
       "1"
      ]
     },
     "execution_count": 17,
     "metadata": {},
     "output_type": "execute_result"
    }
   ],
   "source": [
    "seed = 1"
   ]
  },
  {
   "cell_type": "code",
   "execution_count": 18,
   "metadata": {
    "collapsed": false
   },
   "outputs": [
    {
     "data": {
      "text/plain": [
       "#Function<0.60318236/1 in LCG.instance/1>"
      ]
     },
     "execution_count": 18,
     "metadata": {},
     "output_type": "execute_result"
    }
   ],
   "source": [
    "f"
   ]
  },
  {
   "cell_type": "code",
   "execution_count": 19,
   "metadata": {
    "collapsed": false
   },
   "outputs": [
    {
     "data": {
      "text/plain": [
       "{1, #Function<0.60318236/1 in LCG.instance/1>}"
      ]
     },
     "execution_count": 19,
     "metadata": {},
     "output_type": "execute_result"
    }
   ],
   "source": [
    "{seed, f}"
   ]
  },
  {
   "cell_type": "code",
   "execution_count": 20,
   "metadata": {
    "collapsed": false
   },
   "outputs": [
    {
     "data": {
      "text/plain": [
       "[1 | #Function<0.60318236/1 in LCG.instance/1>]"
      ]
     },
     "execution_count": 20,
     "metadata": {},
     "output_type": "execute_result"
    }
   ],
   "source": [
    "[seed | f]"
   ]
  },
  {
   "cell_type": "code",
   "execution_count": 21,
   "metadata": {
    "collapsed": false
   },
   "outputs": [
    {
     "data": {
      "text/plain": [
       "[1, 2, 3]"
      ]
     },
     "execution_count": 21,
     "metadata": {},
     "output_type": "execute_result"
    }
   ],
   "source": [
    "[h|t] = [1,2,3]"
   ]
  },
  {
   "cell_type": "code",
   "execution_count": 22,
   "metadata": {
    "collapsed": false
   },
   "outputs": [
    {
     "data": {
      "text/plain": [
       "1"
      ]
     },
     "execution_count": 22,
     "metadata": {},
     "output_type": "execute_result"
    }
   ],
   "source": [
    "h"
   ]
  },
  {
   "cell_type": "code",
   "execution_count": 23,
   "metadata": {
    "collapsed": false
   },
   "outputs": [
    {
     "data": {
      "text/plain": [
       "[2, 3]"
      ]
     },
     "execution_count": 23,
     "metadata": {},
     "output_type": "execute_result"
    }
   ],
   "source": [
    "t"
   ]
  },
  {
   "cell_type": "code",
   "execution_count": 24,
   "metadata": {
    "collapsed": false
   },
   "outputs": [
    {
     "data": {
      "text/plain": [
       "[]"
      ]
     },
     "execution_count": 24,
     "metadata": {},
     "output_type": "execute_result"
    }
   ],
   "source": [
    "[]"
   ]
  },
  {
   "cell_type": "code",
   "execution_count": 25,
   "metadata": {
    "collapsed": false
   },
   "outputs": [
    {
     "data": {
      "text/plain": [
       "[1, 2, 3]"
      ]
     },
     "execution_count": 25,
     "metadata": {},
     "output_type": "execute_result"
    }
   ],
   "source": [
    "[1|[2|[3|[]]]] = [1,2,3]"
   ]
  },
  {
   "cell_type": "code",
   "execution_count": 26,
   "metadata": {
    "collapsed": false
   },
   "outputs": [
    {
     "data": {
      "text/plain": [
       "[1 | #Function<0.60318236/1 in LCG.instance/1>]"
      ]
     },
     "execution_count": 26,
     "metadata": {},
     "output_type": "execute_result"
    }
   ],
   "source": [
    "[seed | f]"
   ]
  },
  {
   "cell_type": "code",
   "execution_count": 28,
   "metadata": {
    "collapsed": false
   },
   "outputs": [
    {
     "data": {
      "text/plain": [
       "{:module, LCG, <<70, 79, 82, 49, 0, 0, 7, 216, 66, 69, 65, 77, 65, 116, 85, 56, 0, 0, 0, 250, 0, 0, 0, 26, 10, 69, 108, 105, 120, 105, 114, 46, 76, 67, 71, 8, 95, 95, 105, 110, 102, 111, 95, 95, 9, 102, 117, ...>>, {:stream, 2}}"
      ]
     },
     "execution_count": 28,
     "metadata": {},
     "output_type": "execute_result"
    }
   ],
   "source": [
    "defmodule LCG do\n",
    "  defmodule Parameters do\n",
    "    defstruct [\n",
    "      modulus:    9,\n",
    "      multiplier: 2,\n",
    "      increment:  0\n",
    "    ]\n",
    "\n",
    "    def okay?(p) do\n",
    "      m = p.modulus\n",
    "      a = p.multiplier\n",
    "      c = p.increment\n",
    "      \n",
    "      x = 0 < m\n",
    "      y = (0 < a and a < m)\n",
    "      z = (0 <= c and c < m)\n",
    "\n",
    "      x and y and z\n",
    "    end\n",
    "  end\n",
    "\n",
    "  def instance(p) do\n",
    "    m = p.modulus; a = p.multiplier; c = p.increment\n",
    "    fn s when 0 <= s and s < m ->\n",
    "      Integer.mod(a * s + c, m)\n",
    "    end\n",
    "  end\n",
    "\n",
    "  def stream(seed, generator) do\n",
    "    [seed | fn ->\n",
    "      stream(generator.(seed), generator)\n",
    "    end]\n",
    "  end\n",
    "end"
   ]
  },
  {
   "cell_type": "code",
   "execution_count": 29,
   "metadata": {
    "collapsed": false
   },
   "outputs": [
    {
     "data": {
      "text/plain": [
       "[1 | #Function<1.114884837/0 in LCG.stream/2>]"
      ]
     },
     "execution_count": 29,
     "metadata": {},
     "output_type": "execute_result"
    }
   ],
   "source": [
    "x = %LCG.Parameters{\n",
    "  modulus:    9,\n",
    "  multiplier: 2,\n",
    "  increment:  0\n",
    "}\n",
    "true = LCG.Parameters.okay?(x)\n",
    "f = LCG.instance(x)\n",
    "s = LCG.stream(1, f)"
   ]
  },
  {
   "cell_type": "code",
   "execution_count": 31,
   "metadata": {
    "collapsed": false
   },
   "outputs": [
    {
     "data": {
      "text/plain": [
       "{:module, Eager, <<70, 79, 82, 49, 0, 0, 5, 108, 66, 69, 65, 77, 65, 116, 85, 56, 0, 0, 0, 136, 0, 0, 0, 16, 12, 69, 108, 105, 120, 105, 114, 46, 69, 97, 103, 101, 114, 8, 95, 95, 105, 110, 102, 111, 95, 95, 9, ...>>, {:_take, 2}}"
      ]
     },
     "execution_count": 31,
     "metadata": {},
     "output_type": "execute_result"
    }
   ],
   "source": [
    "defmodule Eager do\n",
    "  def take(_, 0) do\n",
    "    []\n",
    "  end\n",
    "  def take(stream, n) do\n",
    "    [e|rest] = stream\n",
    "    [e|take(rest.(), n - 1)]\n",
    "  end\n",
    "\n",
    "  def _take(s, n) do\n",
    "    if n === 0 do\n",
    "      nil\n",
    "    else\n",
    "      nil\n",
    "    end\n",
    "  end\n",
    "end"
   ]
  },
  {
   "cell_type": "code",
   "execution_count": 33,
   "metadata": {
    "collapsed": false
   },
   "outputs": [
    {
     "data": {
      "text/plain": [
       "[1, 2, 4, 8, 7, 5, 1, 2, 4, 8, 7, 5]"
      ]
     },
     "execution_count": 33,
     "metadata": {},
     "output_type": "execute_result"
    }
   ],
   "source": [
    "Eager.take(s, 12)"
   ]
  },
  {
   "cell_type": "code",
   "execution_count": 34,
   "metadata": {
    "collapsed": false
   },
   "outputs": [
    {
     "data": {
      "text/plain": [
       "{:module, LCG.MMIX, <<70, 79, 82, 49, 0, 0, 5, 160, 66, 69, 65, 77, 65, 116, 85, 56, 0, 0, 0, 182, 0, 0, 0, 18, 15, 69, 108, 105, 120, 105, 114, 46, 76, 67, 71, 46, 77, 77, 73, 88, 8, 95, 95, 105, 110, 102, 111, ...>>, {:stream, 0}}"
      ]
     },
     "execution_count": 34,
     "metadata": {},
     "output_type": "execute_result"
    }
   ],
   "source": [
    "defmodule LCG.MMIX do\n",
    "  def stream do\n",
    "    x = %LCG.Parameters{\n",
    "      modulus:    round(:math.pow(2, 64)),\n",
    "      multiplier: 6364136223846793005,\n",
    "      increment:  1442695040888963407\n",
    "    }\n",
    "    true = LCG.Parameters.okay?(x)\n",
    "    LCG.instance(x)\n",
    "  end\n",
    "end"
   ]
  },
  {
   "cell_type": "code",
   "execution_count": 35,
   "metadata": {
    "collapsed": false
   },
   "outputs": [
    {
     "data": {
      "text/plain": [
       "#Function<0.114884837/1 in LCG.instance/1>"
      ]
     },
     "execution_count": 35,
     "metadata": {},
     "output_type": "execute_result"
    }
   ],
   "source": [
    "m = LCG.MMIX.stream()"
   ]
  },
  {
   "cell_type": "code",
   "execution_count": 36,
   "metadata": {
    "collapsed": false
   },
   "outputs": [
    {
     "data": {
      "text/plain": [
       "[1, 7806831264735756412, 9396908728118811419, 11960119808228829710, 7062582979898595269, 14673421054488193520, 9232803539723513983, 10218303843513747618, 1206773305466921929]"
      ]
     },
     "execution_count": 36,
     "metadata": {},
     "output_type": "execute_result"
    }
   ],
   "source": [
    "Eager.take(LCG.stream(1, m), 9)"
   ]
  },
  {
   "cell_type": "code",
   "execution_count": 37,
   "metadata": {
    "collapsed": false
   },
   "outputs": [
    {
     "data": {
      "text/plain": [
       "{:module, Lazy, <<70, 79, 82, 49, 0, 0, 5, 4, 66, 69, 65, 77, 65, 116, 85, 56, 0, 0, 0, 136, 0, 0, 0, 14, 11, 69, 108, 105, 120, 105, 114, 46, 76, 97, 122, 121, 8, 95, 95, 105, 110, 102, 111, 95, 95, 9, 102, ...>>, {:map, 2}}"
      ]
     },
     "execution_count": 37,
     "metadata": {},
     "output_type": "execute_result"
    }
   ],
   "source": [
    "defmodule Lazy do\n",
    "  def map([], _) do\n",
    "    []\n",
    "  end\n",
    "  def map(s, f) do\n",
    "    [e|rest] = s\n",
    "    [f.(e) | fn ->\n",
    "      map(rest.(), f)\n",
    "    end]\n",
    "  end\n",
    "end"
   ]
  },
  {
   "cell_type": "code",
   "execution_count": 38,
   "metadata": {
    "collapsed": false
   },
   "outputs": [
    {
     "data": {
      "text/plain": [
       "[\"1\", \"7806831264735756412\", \"9396908728118811419\", \"11960119808228829710\", \"7062582979898595269\", \"14673421054488193520\", \"9232803539723513983\", \"10218303843513747618\", \"1206773305466921929\", \"15490212636682683044\", \"3660572683296592931\", \"13756953107850766454\"]"
      ]
     },
     "execution_count": 38,
     "metadata": {},
     "output_type": "execute_result"
    }
   ],
   "source": [
    "LCG.stream(1, m)\n",
    "|> Lazy.map(&Integer.to_string/1)\n",
    "|> Eager.take(12)"
   ]
  },
  {
   "cell_type": "code",
   "execution_count": null,
   "metadata": {
    "collapsed": true
   },
   "outputs": [],
   "source": []
  }
 ],
 "metadata": {
  "kernelspec": {
   "display_name": "Elixir",
   "language": "Elixir",
   "name": "ielixir"
  },
  "language_info": {
   "codemirror_mode": "elixir",
   "file_extension": "ex",
   "mimetype": "text/x-elixir",
   "name": "elixir",
   "nbconvert_exporter": "",
   "pygments_lexer": "elixir",
   "version": "#Version<1.6.2>"
  }
 },
 "nbformat": 4,
 "nbformat_minor": 1
}
