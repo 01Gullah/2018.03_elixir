{
 "cells": [
  {
   "cell_type": "markdown",
   "metadata": {},
   "source": [
    "## Let's Start Where We Left Off"
   ]
  },
  {
   "cell_type": "code",
   "execution_count": 1,
   "metadata": {
    "collapsed": false
   },
   "outputs": [
    {
     "data": {
      "text/plain": [
       "{:module, LCG, <<70, 79, 82, 49, 0, 0, 6, 180, 66, 69, 65, 77, 65, 116, 85, 56, 0, 0, 0, 226, 0, 0, 0, 24, 10, 69, 108, 105, 120, 105, 114, 46, 76, 67, 71, 8, 95, 95, 105, 110, 102, 111, 95, 95, 9, 102, 117, ...>>, {:instance, 1}}"
      ]
     },
     "execution_count": 1,
     "metadata": {},
     "output_type": "execute_result"
    }
   ],
   "source": [
    "defmodule LCG do\n",
    "  defmodule Parameters do\n",
    "    defstruct [\n",
    "      modulus:    9,\n",
    "      multiplier: 2,\n",
    "      increment:  0\n",
    "    ]\n",
    "\n",
    "    def okay?(p) do\n",
    "      m = p.modulus\n",
    "      a = p.multiplier\n",
    "      c = p.increment\n",
    "      \n",
    "      x = 0 < m\n",
    "      y = (0 < a and a < m)\n",
    "      z = (0 <= c and c < m)\n",
    "\n",
    "      x and y and z\n",
    "    end\n",
    "  end\n",
    "\n",
    "  def instance(p) do\n",
    "    m = p.modulus; a = p.multiplier; c = p.increment\n",
    "    fn s when 0 <= s and s < m ->\n",
    "      Integer.mod(a * s + c, m)\n",
    "    end\n",
    "  end\n",
    "end"
   ]
  },
  {
   "cell_type": "code",
   "execution_count": 2,
   "metadata": {
    "collapsed": false
   },
   "outputs": [
    {
     "data": {
      "text/plain": [
       "#Function<0.60318236/1 in LCG.instance/1>"
      ]
     },
     "execution_count": 2,
     "metadata": {},
     "output_type": "execute_result"
    }
   ],
   "source": [
    "x = %LCG.Parameters{\n",
    "  modulus:    9,\n",
    "  multiplier: 2,\n",
    "  increment:  0\n",
    "}\n",
    "true = LCG.Parameters.okay?(x)\n",
    "f = LCG.instance(x)"
   ]
  },
  {
   "cell_type": "markdown",
   "metadata": {},
   "source": [
    "## Motivation: API"
   ]
  },
  {
   "cell_type": "markdown",
   "metadata": {},
   "source": [
    "## Aside: Enum & Stream"
   ]
  },
  {
   "cell_type": "markdown",
   "metadata": {},
   "source": [
    "---"
   ]
  },
  {
   "cell_type": "markdown",
   "metadata": {},
   "source": [
    "## Aside: A Guide To Lists & Pairs"
   ]
  },
  {
   "cell_type": "markdown",
   "metadata": {},
   "source": [
    "---"
   ]
  },
  {
   "cell_type": "markdown",
   "metadata": {},
   "source": [
    "## LCG Stream: Two Pieces Of State"
   ]
  },
  {
   "cell_type": "markdown",
   "metadata": {},
   "source": [
    "## Eager API"
   ]
  },
  {
   "cell_type": "markdown",
   "metadata": {},
   "source": [
    "## MMIX Generator"
   ]
  },
  {
   "cell_type": "markdown",
   "metadata": {},
   "source": [
    "## Lazy API"
   ]
  },
  {
   "cell_type": "markdown",
   "metadata": {},
   "source": [
    "## @ Home\n",
    "\n",
    "1. Have a look at [Caffeine](https://github.com/Dzol/caffeine), fork it (or declare it as a dependecy in a Mix project), and write a stream for at least three of the following:\n",
    "\n",
    "  - the same value, again-and-again, infinitely.\n",
    "    E.g. if the given value is the float 3.14:\n",
    "    ```Elixir\n",
    "    take(s, 5) === [3.14, 3.14, 3.14, 3.14, 3.14]\n",
    "    ```\n",
    "  - consecutive natural numbers.\n",
    "    E.g.:\n",
    "    ```Elixir\n",
    "    take(s, 5) === [0,1,2,3,4]\n",
    "    ```\n",
    "  - consecutive integers.\n",
    "    E.g. if the given first integer is 5:\n",
    "    ```Elixir\n",
    "    take(s, 5) === [5,6,7,8,9]\n",
    "    ```\n",
    "  - the numbers in an arbitrary interval (like Elixir's `Range`)\n",
    "  - a list\n",
    "    E.g. if the given list is [\"I'm\", \"inside\", \"of\", \"a\", \"list\", \"!\"]:\n",
    "    ```Elixir\n",
    "    take(s, 5) == [\"I'm\", \"inside\", \"of\", \"a\", \"list\"]\n",
    "    ```\n",
    "  - fibonacci\n",
    "  - factorial\n",
    "  - the contents of a file line-by-line\n",
    "  - prime numbers\n",
    "\n",
    "  Caffeine's documentation: https://hexdocs.pm/caffeine/1.2.0/Caffeine.Stream.html\n",
    "\n",
    "\n",
    "2. Compare and contrast Caffeine's API with the API for the stream we wrote above.\n",
    "\n",
    "3. Critically evaluate the similarities and differences from your answer to question 2.\n",
    "\n",
    "4. Elixir has a [stream data strucutre and an API](https://hexdocs.pm/elixir/Stream.html#content) of its own: which of the functions that Caffeine has in common differ substancially in behaviour and how?"
   ]
  },
  {
   "cell_type": "code",
   "execution_count": null,
   "metadata": {
    "collapsed": true
   },
   "outputs": [],
   "source": []
  }
 ],
 "metadata": {
  "kernelspec": {
   "display_name": "Elixir",
   "language": "Elixir",
   "name": "ielixir"
  },
  "language_info": {
   "codemirror_mode": "elixir",
   "file_extension": "ex",
   "mimetype": "text/x-elixir",
   "name": "elixir",
   "nbconvert_exporter": "",
   "pygments_lexer": "elixir",
   "version": "#Version<1.6.2>"
  }
 },
 "nbformat": 4,
 "nbformat_minor": 1
}
