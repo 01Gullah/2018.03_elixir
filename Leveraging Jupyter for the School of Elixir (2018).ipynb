{
 "cells": [
  {
   "cell_type": "markdown",
   "metadata": {},
   "source": [
    "# Leveraging Jupyter for the School of Elixir"
   ]
  },
  {
   "cell_type": "markdown",
   "metadata": {},
   "source": [
    "Lessons learnt from the School of Elixir 2018:\n",
    "\n",
    "School is about two things at least:\n",
    "(1) teaching + (2) learning (not neccessarily in that order).\n",
    "The subject material + form are other things that come into play.\n",
    "It can be tricky to school as both parties must be willing and indeed able to do their respective parts.\n",
    "How do we make the most of limited time?"
   ]
  },
  {
   "cell_type": "markdown",
   "metadata": {},
   "source": [
    "## Traditional Qualities of Teaching\n",
    "\n",
    "Experience tells us:\n",
    "\n",
    "- Material might be boring\n",
    "- Delivery might be boring"
   ]
  },
  {
   "cell_type": "markdown",
   "metadata": {},
   "source": [
    "## Taditional Media\n",
    "\n",
    "Let's think about information flow in these scenarios:\n",
    "\n",
    "- black board (teacher note, black board, student note book, revision/rehearsal in own time, then exercises)\n",
    "- slide deck (black board, student note book maybe, revision/rehearsal in own time, then exercises)\n",
    "- <font color=\"red\"/>demo:</font> terminal + editor, git, revision/rehearsal in own time, then exercises\n",
    "- ...\n",
    "\n",
    "Question: how to we maximise information transmission (from instructor) + understanding (from class)?"
   ]
  },
  {
   "cell_type": "markdown",
   "metadata": {},
   "source": [
    "![x](./WICNBICNU.jpeg)"
   ]
  },
  {
   "cell_type": "markdown",
   "metadata": {},
   "source": [
    "## Jupyter\n",
    "\n",
    "What makes Jupyter different (advantages):\n",
    "\n",
    "- mix of text + code\n",
    "- narrative\n",
    "- interactive\n",
    "- history\n",
    "- [GitHub rendering](https://github.com/lambdaacademy/2018.03_elixir/blob/master/Class%20%232%20%E2%80%94%20PRNG.ipynb)\n",
    "- open\n",
    "- incorporate class questions\n"
   ]
  },
  {
   "cell_type": "markdown",
   "metadata": {},
   "source": [
    "## Introduction"
   ]
  },
  {
   "cell_type": "markdown",
   "metadata": {},
   "source": [
    "Normal code we'd type into a `.ex` file, `.exs` script, or the shell is straight forward:"
   ]
  },
  {
   "cell_type": "code",
   "execution_count": 1,
   "metadata": {
    "collapsed": false
   },
   "outputs": [
    {
     "data": {
      "text/plain": [
       "{:module, Mu, <<70, 79, 82, 49, 0, 0, 6, 20, 66, 69, 65, 77, 69, 120, 68, 99, 0, 0, 0, 121, 131, 80, 0, 0, 0, 162, 120, 156, 53, 142, 65, 18, 130, 48, 12, 69, 211, 130, 11, 22, 114, 23, 79, 196, 196, 38, 78, ...>>, {:ackermann, 2}}"
      ]
     },
     "execution_count": 1,
     "metadata": {},
     "output_type": "execute_result"
    }
   ],
   "source": [
    "defmodule Mu do\n",
    "  def ackermann(0, n) do\n",
    "    n + 1\n",
    "  end\n",
    "  def ackermann(m, 0) when m > 0 do\n",
    "    ackermann(m - 1, 1)\n",
    "  end\n",
    "  def ackermann(m, n) when m > 0 and n > 0 do\n",
    "    ackermann(m - 1, ackermann(m, n - 1))\n",
    "  end\n",
    "end"
   ]
  },
  {
   "cell_type": "code",
   "execution_count": 2,
   "metadata": {
    "collapsed": false
   },
   "outputs": [
    {
     "data": {
      "text/plain": [
       "true"
      ]
     },
     "execution_count": 2,
     "metadata": {},
     "output_type": "execute_result"
    }
   ],
   "source": [
    "Mu.ackermann(3, 4) === 125"
   ]
  },
  {
   "cell_type": "markdown",
   "metadata": {},
   "source": [
    "Setting up ExUnit is **not** straight forward:"
   ]
  },
  {
   "cell_type": "code",
   "execution_count": 3,
   "metadata": {
    "collapsed": false
   },
   "outputs": [
    {
     "data": {
      "text/plain": [
       "{:module, JupyterTest, <<70, 79, 82, 49, 0, 0, 8, 112, 66, 69, 65, 77, 69, 120, 68, 99, 0, 0, 0, 114, 131, 80, 0, 0, 0, 147, 120, 156, 53, 141, 209, 14, 194, 48, 8, 69, 105, 215, 45, 241, 65, 255, 197, 47, 106, 176, 160, ...>>, {:context, 0}}"
      ]
     },
     "execution_count": 3,
     "metadata": {},
     "output_type": "execute_result"
    }
   ],
   "source": [
    "defmodule JupyterTest do\n",
    "  def go module do\n",
    "    module.__ex_unit__()\n",
    "    |> Map.fetch!(:tests)\n",
    "    |> Enum.each(&run/1)\n",
    "  end\n",
    "\n",
    "  defp run %ExUnit.Test{module: m, name: f} do\n",
    "    IO.inspect(f); a = [context()]; Kernel.apply(m, f, a)\n",
    "  end\n",
    "\n",
    "  defp context do\n",
    "    %{}\n",
    "  end\n",
    "end"
   ]
  },
  {
   "cell_type": "code",
   "execution_count": 4,
   "metadata": {
    "collapsed": false
   },
   "outputs": [
    {
     "data": {
      "text/plain": [
       "nil"
      ]
     },
     "execution_count": 4,
     "metadata": {},
     "output_type": "execute_result"
    }
   ],
   "source": [
    "ExUnit.start(autorun: false)"
   ]
  },
  {
   "cell_type": "markdown",
   "metadata": {},
   "source": [
    "Then we can write a test module:"
   ]
  },
  {
   "cell_type": "code",
   "execution_count": 12,
   "metadata": {
    "collapsed": false
   },
   "outputs": [
    {
     "data": {
      "text/plain": [
       "{:module, MuTest, <<70, 79, 82, 49, 0, 0, 10, 68, 66, 69, 65, 77, 69, 120, 68, 99, 0, 0, 0, 182, 131, 80, 0, 0, 1, 33, 120, 156, 109, 143, 97, 14, 130, 48, 12, 133, 55, 64, 141, 49, 122, 134, 121, 4, 15, 225, 57, ...>>, {:\"test a computationally cheap case\", 1}}"
      ]
     },
     "execution_count": 12,
     "metadata": {},
     "output_type": "execute_result"
    }
   ],
   "source": [
    "defmodule MuTest do\n",
    "  use ExUnit.Case, async: true\n",
    "\n",
    "  test \"a computationally cheap case\" do\n",
    "    assert Mu.ackermann(3, 4) === 125\n",
    "  end\n",
    "end"
   ]
  },
  {
   "cell_type": "code",
   "execution_count": 13,
   "metadata": {
    "collapsed": false
   },
   "outputs": [
    {
     "name": "stdout",
     "output_type": "stream",
     "text": [
      ":\"test a computationally cheap case\"\n"
     ]
    },
    {
     "data": {
      "text/plain": [
       ":ok"
      ]
     },
     "execution_count": 13,
     "metadata": {},
     "output_type": "execute_result"
    }
   ],
   "source": [
    "JupyterTest.go MuTest"
   ]
  },
  {
   "cell_type": "markdown",
   "metadata": {},
   "source": [
    "We can define a modules over and over as in the shell:"
   ]
  },
  {
   "cell_type": "code",
   "execution_count": 14,
   "metadata": {
    "collapsed": false
   },
   "outputs": [
    {
     "data": {
      "text/plain": [
       "{:module, MuTest, <<70, 79, 82, 49, 0, 0, 11, 112, 66, 69, 65, 77, 69, 120, 68, 99, 0, 0, 0, 178, 131, 80, 0, 0, 1, 26, 120, 156, 109, 207, 81, 14, 130, 48, 12, 6, 224, 13, 80, 99, 140, 30, 192, 39, 174, 224, 33, ...>>, {:\"test computationally cheap\", 1}}"
      ]
     },
     "execution_count": 14,
     "metadata": {},
     "output_type": "execute_result"
    }
   ],
   "source": [
    "defmodule MuTest do\n",
    "  use ExUnit.Case, async: true\n",
    "\n",
    "  test \"computationally cheap\" do\n",
    "    refute Mu.ackermann(3, 4) === 125\n",
    "  end\n",
    "end"
   ]
  },
  {
   "cell_type": "code",
   "execution_count": 15,
   "metadata": {
    "collapsed": false
   },
   "outputs": [
    {
     "ename": "ExUnit.AssertionError",
     "evalue": "1",
     "output_type": "error",
     "traceback": [
      "** %ExUnit.AssertionError{expr: {:refute, [], [{:===, [line: 5], [{{:., [line: 5], [{:__aliases__, [line: 5], [:Mu]}, :ackermann]}, [line: 5], [3, 4]}, 125]}]}, left: 125, message: \"Refute with === failed, both sides are exactly equal\", right: :ex_unit_no_meaningful_value}"
     ]
    }
   ],
   "source": [
    "JupyterTest.go MuTest"
   ]
  },
  {
   "cell_type": "markdown",
   "metadata": {},
   "source": [
    "Loading BEAM files:"
   ]
  },
  {
   "cell_type": "code",
   "execution_count": 8,
   "metadata": {
    "collapsed": false
   },
   "outputs": [
    {
     "data": {
      "text/plain": [
       "nil"
      ]
     },
     "execution_count": 8,
     "metadata": {},
     "output_type": "execute_result"
    }
   ],
   "source": [
    "# \"binary/x\"\n",
    "# |> File.ls!()\n",
    "# |> Enum.map(& Path.join([\"binary\", \"x\", &1]))\n",
    "# |> Enum.map(& String.trim(&1, \".beam\"))\n",
    "# |> Enum.map(& String.to_charlist/1)\n",
    "# |> Enum.map(& :code.load_abs/1)"
   ]
  },
  {
   "cell_type": "markdown",
   "metadata": {},
   "source": [
    "Loading `.ex` files (e.g. a Hex dependency):"
   ]
  },
  {
   "cell_type": "code",
   "execution_count": 9,
   "metadata": {
    "collapsed": false
   },
   "outputs": [
    {
     "data": {
      "text/plain": [
       "nil"
      ]
     },
     "execution_count": 9,
     "metadata": {},
     "output_type": "execute_result"
    }
   ],
   "source": [
    "## recursively find all the `.ex` files under the `deps/x/lib` directory\n",
    "# Enum.map(x, &Code.load_file/1)\n",
    "# Code.load_file(\"deps/x/mix.exs\")\n",
    "# configuration = [\n",
    "#         initial_size: 1,\n",
    "#         max_runs: 100,\n",
    "#         max_run_time: :infinity,\n",
    "#         max_shrinking_steps: 100\n",
    "#       ]\n",
    "# f = fn {name, value} ->\n",
    "#   Application.put_env(:stream_data, name, value)\n",
    "# end\n",
    "# Enum.each(configuration, f)"
   ]
  },
  {
   "cell_type": "markdown",
   "metadata": {},
   "source": [
    "Processes work!"
   ]
  },
  {
   "cell_type": "code",
   "execution_count": 8,
   "metadata": {
    "collapsed": false
   },
   "outputs": [
    {
     "data": {
      "text/plain": [
       "{:ok, #PID<0.235.0>}"
      ]
     },
     "execution_count": 8,
     "metadata": {},
     "output_type": "execute_result"
    }
   ],
   "source": [
    "initial = fn ->\n",
    "  42\n",
    "end\n",
    "{:ok, x} = Agent.start_link(initial)"
   ]
  },
  {
   "cell_type": "code",
   "execution_count": 9,
   "metadata": {
    "collapsed": false
   },
   "outputs": [
    {
     "data": {
      "text/plain": [
       "42"
      ]
     },
     "execution_count": 9,
     "metadata": {},
     "output_type": "execute_result"
    }
   ],
   "source": [
    "increment = fn number ->\n",
    "  {number, number + 1}\n",
    "end\n",
    "Agent.get_and_update(x, increment)"
   ]
  },
  {
   "cell_type": "code",
   "execution_count": 10,
   "metadata": {
    "collapsed": false
   },
   "outputs": [
    {
     "data": {
      "text/plain": [
       "43"
      ]
     },
     "execution_count": 10,
     "metadata": {},
     "output_type": "execute_result"
    }
   ],
   "source": [
    "Agent.get_and_update(x, increment)"
   ]
  },
  {
   "cell_type": "markdown",
   "metadata": {},
   "source": [
    "The observer too:"
   ]
  },
  {
   "cell_type": "code",
   "execution_count": 11,
   "metadata": {
    "collapsed": false
   },
   "outputs": [
    {
     "data": {
      "text/plain": [
       ":ok"
      ]
     },
     "execution_count": 11,
     "metadata": {},
     "output_type": "execute_result"
    }
   ],
   "source": [
    ":observer.start"
   ]
  },
  {
   "cell_type": "markdown",
   "metadata": {},
   "source": [
    "## Tips\n",
    "\n",
    "- The IEx helpers are... helpful\n",
    "- No need for parentheses (saves time)\n",
    "- The `;` to one-line code\n",
    "- Prepare a partial narrative to complete in a tutorial (for example)"
   ]
  },
  {
   "cell_type": "markdown",
   "metadata": {},
   "source": [
    "## Drawbacks\n",
    "\n",
    "- loading libraries is tricky\n",
    "- loading binaries is tricky\n",
    "- transfering code to a conventional Mix/Elixir source tree is work\n",
    "- Jupyter + Interactive Elixir set-up might take time"
   ]
  },
  {
   "cell_type": "code",
   "execution_count": null,
   "metadata": {
    "collapsed": true
   },
   "outputs": [],
   "source": []
  }
 ],
 "metadata": {
  "kernelspec": {
   "display_name": "Elixir",
   "language": "Elixir",
   "name": "ielixir"
  },
  "language_info": {
   "codemirror_mode": "elixir",
   "file_extension": "ex",
   "mimetype": "text/x-elixir",
   "name": "elixir",
   "nbconvert_exporter": "",
   "pygments_lexer": "elixir",
   "version": "#Version<1.6.2>"
  }
 },
 "nbformat": 4,
 "nbformat_minor": 1
}
