{
 "cells": [
  {
   "cell_type": "markdown",
   "metadata": {},
   "source": [
    "# Class II\n",
    "\n",
    "Last time:\n",
    "\n",
    "- Purity\n",
    "- I/O\n",
    "\n",
    "The remaining three classes:\n",
    "\n",
    "- Build + test a psuedo-random number generator (PRNG)\n",
    "- Build + test a [stream](https://en.wikipedia.org/wiki/Stream_%28computing%29) data structure\n",
    "- Integrate with Elixir's [StreamData](https://hex.pm/packages/stream_data)\n",
    "\n",
    "Jupyter:\n",
    "\n",
    "- Lots of good\n",
    "- Exceptions are printed as a structure (different from IEx) & stack-trace missing\n"
   ]
  },
  {
   "cell_type": "markdown",
   "metadata": {},
   "source": [
    "---"
   ]
  },
  {
   "cell_type": "markdown",
   "metadata": {},
   "source": [
    "Have a look at this page [Linear Congruential Generator](https://en.wikipedia.org/wiki/Linear_congruential_generator) (especially the picture)"
   ]
  },
  {
   "cell_type": "code",
   "execution_count": 1,
   "metadata": {
    "collapsed": false
   },
   "outputs": [
    {
     "data": {
      "text/plain": [
       "1"
      ]
     },
     "execution_count": 1,
     "metadata": {},
     "output_type": "execute_result"
    }
   ],
   "source": [
    "m = 9; a = 2; c = 0\n",
    "seed = 1"
   ]
  },
  {
   "cell_type": "code",
   "execution_count": 2,
   "metadata": {
    "collapsed": false
   },
   "outputs": [
    {
     "data": {
      "text/plain": [
       "2"
      ]
     },
     "execution_count": 2,
     "metadata": {},
     "output_type": "execute_result"
    }
   ],
   "source": [
    "seed = Integer.mod(a * seed + c, m)"
   ]
  },
  {
   "cell_type": "code",
   "execution_count": 3,
   "metadata": {
    "collapsed": false
   },
   "outputs": [
    {
     "data": {
      "text/plain": [
       "4"
      ]
     },
     "execution_count": 3,
     "metadata": {},
     "output_type": "execute_result"
    }
   ],
   "source": [
    "seed = Integer.mod(a * seed + c, m)"
   ]
  },
  {
   "cell_type": "markdown",
   "metadata": {},
   "source": [
    "## Version I"
   ]
  },
  {
   "cell_type": "code",
   "execution_count": 4,
   "metadata": {
    "collapsed": false
   },
   "outputs": [
    {
     "data": {
      "text/plain": [
       "{:module, Generator.LCG, <<70, 79, 82, 49, 0, 0, 4, 192, 66, 69, 65, 77, 65, 116, 85, 56, 0, 0, 0, 152, 0, 0, 0, 17, 20, 69, 108, 105, 120, 105, 114, 46, 71, 101, 110, 101, 114, 97, 116, 111, 114, 46, 76, 67, 71, 8, 95, ...>>, {:f, 1}}"
      ]
     },
     "execution_count": 4,
     "metadata": {},
     "output_type": "execute_result"
    }
   ],
   "source": [
    "defmodule Generator.LCG do\n",
    "  def f(seed) do\n",
    "    m = 9; a = 2; c = 0\n",
    "    seed = Integer.mod(a * seed + c, m)\n",
    "  end\n",
    "end"
   ]
  },
  {
   "cell_type": "code",
   "execution_count": 5,
   "metadata": {
    "collapsed": false
   },
   "outputs": [
    {
     "data": {
      "text/plain": [
       "8"
      ]
     },
     "execution_count": 5,
     "metadata": {},
     "output_type": "execute_result"
    }
   ],
   "source": [
    "Generator.LCG.f(Generator.LCG.f(Generator.LCG.f(1)))"
   ]
  },
  {
   "cell_type": "markdown",
   "metadata": {},
   "source": [
    "## Aside: Function Literals"
   ]
  },
  {
   "cell_type": "code",
   "execution_count": 6,
   "metadata": {
    "collapsed": false
   },
   "outputs": [
    {
     "data": {
      "text/plain": [
       "9"
      ]
     },
     "execution_count": 6,
     "metadata": {},
     "output_type": "execute_result"
    }
   ],
   "source": [
    "9 # A integer \"literal\""
   ]
  },
  {
   "cell_type": "code",
   "execution_count": 7,
   "metadata": {
    "collapsed": false
   },
   "outputs": [
    {
     "data": {
      "text/plain": [
       "\"I'm a string!\""
      ]
     },
     "execution_count": 7,
     "metadata": {},
     "output_type": "execute_result"
    }
   ],
   "source": [
    "\"I'm a string!\" # A string \"literal\""
   ]
  },
  {
   "cell_type": "code",
   "execution_count": 8,
   "metadata": {
    "collapsed": false
   },
   "outputs": [
    {
     "data": {
      "text/plain": [
       "%{name: \"Joseph Yiasemides\", occupation: \"Software Engineer\"}"
      ]
     },
     "execution_count": 8,
     "metadata": {},
     "output_type": "execute_result"
    }
   ],
   "source": [
    "## An object literal in other languages might look like this\n",
    "%{name: \"Joseph Yiasemides\",\n",
    "  occupation: \"Software Engineer\"}"
   ]
  },
  {
   "cell_type": "code",
   "execution_count": 9,
   "metadata": {
    "collapsed": false
   },
   "outputs": [
    {
     "data": {
      "text/plain": [
       "#Function<20.99386804/0 in :erl_eval.expr/5>"
      ]
     },
     "execution_count": 9,
     "metadata": {},
     "output_type": "execute_result"
    }
   ],
   "source": [
    "fn -> nil end # A function \"literal\""
   ]
  },
  {
   "cell_type": "code",
   "execution_count": 10,
   "metadata": {
    "collapsed": false
   },
   "outputs": [
    {
     "data": {
      "text/plain": [
       "#Function<20.99386804/0 in :erl_eval.expr/5>"
      ]
     },
     "execution_count": 10,
     "metadata": {},
     "output_type": "execute_result"
    }
   ],
   "source": [
    "fu = fn ->\n",
    "  \"I'm inside a function!\"\n",
    "end"
   ]
  },
  {
   "cell_type": "code",
   "execution_count": 11,
   "metadata": {
    "collapsed": false
   },
   "outputs": [
    {
     "data": {
      "text/plain": [
       "\"I'm inside a function!\""
      ]
     },
     "execution_count": 11,
     "metadata": {},
     "output_type": "execute_result"
    }
   ],
   "source": [
    "fu.()"
   ]
  },
  {
   "cell_type": "code",
   "execution_count": 12,
   "metadata": {
    "collapsed": false
   },
   "outputs": [
    {
     "data": {
      "text/plain": [
       "#Function<6.99386804/1 in :erl_eval.expr/5>"
      ]
     },
     "execution_count": 12,
     "metadata": {},
     "output_type": "execute_result"
    }
   ],
   "source": [
    "identity = fn (x) ->\n",
    "  x\n",
    "end"
   ]
  },
  {
   "cell_type": "code",
   "execution_count": 13,
   "metadata": {
    "collapsed": false
   },
   "outputs": [
    {
     "data": {
      "text/plain": [
       "#Function<12.99386804/2 in :erl_eval.expr/5>"
      ]
     },
     "execution_count": 13,
     "metadata": {},
     "output_type": "execute_result"
    }
   ],
   "source": [
    "compare = fn x, y ->\n",
    "  cond do\n",
    "    x < y ->\n",
    "      -1\n",
    "    x == y ->\n",
    "      0\n",
    "    x > y ->\n",
    "      +1\n",
    "  end\n",
    "end"
   ]
  },
  {
   "cell_type": "code",
   "execution_count": 14,
   "metadata": {
    "collapsed": false
   },
   "outputs": [
    {
     "data": {
      "text/plain": [
       "-1"
      ]
     },
     "execution_count": 14,
     "metadata": {},
     "output_type": "execute_result"
    }
   ],
   "source": [
    "apply(compare, [1,2])"
   ]
  },
  {
   "cell_type": "code",
   "execution_count": 15,
   "metadata": {
    "collapsed": false
   },
   "outputs": [
    {
     "data": {
      "text/plain": [
       "-1"
      ]
     },
     "execution_count": 15,
     "metadata": {},
     "output_type": "execute_result"
    }
   ],
   "source": [
    "compare.(1,2) ## This is equivalent to the cell above"
   ]
  },
  {
   "cell_type": "code",
   "execution_count": 16,
   "metadata": {
    "collapsed": false
   },
   "outputs": [
    {
     "data": {
      "text/plain": [
       "\"I'm outside!\""
      ]
     },
     "execution_count": 16,
     "metadata": {},
     "output_type": "execute_result"
    }
   ],
   "source": [
    "x = \"I'm outside!\"\n",
    "f = fn -> ## This is a \"closure\"\n",
    "  x\n",
    "end\n",
    "f.()"
   ]
  },
  {
   "cell_type": "code",
   "execution_count": 17,
   "metadata": {
    "collapsed": false
   },
   "outputs": [
    {
     "ename": "CompileError",
     "evalue": "1",
     "output_type": "error",
     "traceback": [
      "** (CompileError) console:2 \"undefined function z/0\""
     ]
    }
   ],
   "source": [
    "g = fn ->\n",
    "  z ## This isn't defined (inside or outside)\n",
    "end"
   ]
  },
  {
   "cell_type": "markdown",
   "metadata": {},
   "source": [
    "---"
   ]
  },
  {
   "cell_type": "markdown",
   "metadata": {},
   "source": [
    "## Version II"
   ]
  },
  {
   "cell_type": "code",
   "execution_count": 17,
   "metadata": {
    "collapsed": false
   },
   "outputs": [
    {
     "data": {
      "text/plain": [
       "{:module, Generator.LCG, <<70, 79, 82, 49, 0, 0, 5, 16, 66, 69, 65, 77, 65, 116, 85, 56, 0, 0, 0, 164, 0, 0, 0, 18, 20, 69, 108, 105, 120, 105, 114, 46, 71, 101, 110, 101, 114, 97, 116, 111, 114, 46, 76, 67, 71, 8, 95, ...>>, {:f, 3}}"
      ]
     },
     "execution_count": 17,
     "metadata": {},
     "output_type": "execute_result"
    }
   ],
   "source": [
    "defmodule Generator.LCG do\n",
    "  def f(m, a, c) do\n",
    "    fn (seed) ->\n",
    "      Integer.mod(a * seed + c, m)\n",
    "    end\n",
    " end\n",
    "end"
   ]
  },
  {
   "cell_type": "code",
   "execution_count": 18,
   "metadata": {
    "collapsed": false
   },
   "outputs": [
    {
     "data": {
      "text/plain": [
       "0"
      ]
     },
     "execution_count": 18,
     "metadata": {},
     "output_type": "execute_result"
    }
   ],
   "source": [
    "m = 9; a = 2; c = 0"
   ]
  },
  {
   "cell_type": "code",
   "execution_count": 19,
   "metadata": {
    "collapsed": false
   },
   "outputs": [
    {
     "data": {
      "text/plain": [
       "#Function<0.64772075/1 in Generator.LCG.f/3>"
      ]
     },
     "execution_count": 19,
     "metadata": {},
     "output_type": "execute_result"
    }
   ],
   "source": [
    "g = Generator.LCG.f(m, a, c)"
   ]
  },
  {
   "cell_type": "code",
   "execution_count": 20,
   "metadata": {
    "collapsed": false
   },
   "outputs": [
    {
     "data": {
      "text/plain": [
       "8"
      ]
     },
     "execution_count": 20,
     "metadata": {},
     "output_type": "execute_result"
    }
   ],
   "source": [
    "g.(g.(g.(1)))"
   ]
  },
  {
   "cell_type": "code",
   "execution_count": 21,
   "metadata": {
    "collapsed": false
   },
   "outputs": [
    {
     "data": {
      "text/plain": [
       "2"
      ]
     },
     "execution_count": 21,
     "metadata": {},
     "output_type": "execute_result"
    }
   ],
   "source": [
    "1\n",
    "|> g.()\n"
   ]
  },
  {
   "cell_type": "markdown",
   "metadata": {},
   "source": [
    "How about some documentation?"
   ]
  },
  {
   "cell_type": "markdown",
   "metadata": {},
   "source": [
    "## Version III"
   ]
  },
  {
   "cell_type": "code",
   "execution_count": 22,
   "metadata": {
    "collapsed": false
   },
   "outputs": [
    {
     "data": {
      "text/plain": [
       "#Function<0.64772075/1 in Generator.LCG.f/3>"
      ]
     },
     "execution_count": 22,
     "metadata": {},
     "output_type": "execute_result"
    }
   ],
   "source": [
    "modulus = 9; multiplier = 2; increment = 0;\n",
    "h = Generator.LCG.f(modulus, multiplier, increment)"
   ]
  },
  {
   "cell_type": "code",
   "execution_count": 23,
   "metadata": {
    "collapsed": false
   },
   "outputs": [
    {
     "data": {
      "text/plain": [
       "2"
      ]
     },
     "execution_count": 23,
     "metadata": {},
     "output_type": "execute_result"
    }
   ],
   "source": [
    "h.(1)"
   ]
  },
  {
   "cell_type": "code",
   "execution_count": 24,
   "metadata": {
    "collapsed": false
   },
   "outputs": [
    {
     "data": {
      "text/plain": [
       "{:module, Generator.LCG, <<70, 79, 82, 49, 0, 0, 8, 112, 66, 69, 65, 77, 65, 116, 85, 56, 0, 0, 1, 13, 0, 0, 0, 29, 20, 69, 108, 105, 120, 105, 114, 46, 71, 101, 110, 101, 114, 97, 116, 111, 114, 46, 76, 67, 71, 8, 95, ...>>, {:f, 1}}"
      ]
     },
     "execution_count": 24,
     "metadata": {},
     "output_type": "execute_result"
    }
   ],
   "source": [
    "defmodule Generator.LCG do\n",
    "  defstruct [\n",
    "     :modulus,\n",
    "     :multiplier,\n",
    "     :increment\n",
    "  ]\n",
    "\n",
    "  def f(p) do\n",
    "    m = p.modulus\n",
    "    a = p.multiplier\n",
    "    c = p.increment\n",
    "    fn (seed) ->\n",
    "      Integer.mod(a * seed + c, m)\n",
    "    end\n",
    " end\n",
    "end"
   ]
  },
  {
   "cell_type": "code",
   "execution_count": 25,
   "metadata": {
    "collapsed": false
   },
   "outputs": [
    {
     "data": {
      "text/plain": [
       "%Generator.LCG{increment: nil, modulus: nil, multiplier: nil}"
      ]
     },
     "execution_count": 25,
     "metadata": {},
     "output_type": "execute_result"
    }
   ],
   "source": [
    "%Generator.LCG{}"
   ]
  },
  {
   "cell_type": "code",
   "execution_count": 26,
   "metadata": {
    "collapsed": false
   },
   "outputs": [
    {
     "data": {
      "text/plain": [
       "8"
      ]
     },
     "execution_count": 26,
     "metadata": {},
     "output_type": "execute_result"
    }
   ],
   "source": [
    "p = %Generator.LCG{increment: 0, modulus: 9, multiplier: 2}\n",
    "h = Generator.LCG.f(p)\n",
    "h.(h.(h.(1)))"
   ]
  },
  {
   "cell_type": "code",
   "execution_count": 27,
   "metadata": {
    "collapsed": false
   },
   "outputs": [
    {
     "data": {
      "text/plain": [
       "{:module, Generator.LCG, <<70, 79, 82, 49, 0, 0, 8, 116, 66, 69, 65, 77, 65, 116, 85, 56, 0, 0, 1, 13, 0, 0, 0, 29, 20, 69, 108, 105, 120, 105, 114, 46, 71, 101, 110, 101, 114, 97, 116, 111, 114, 46, 76, 67, 71, 8, 95, ...>>, {:f, 1}}"
      ]
     },
     "execution_count": 27,
     "metadata": {},
     "output_type": "execute_result"
    }
   ],
   "source": [
    "defmodule Generator.LCG do\n",
    "  defstruct [\n",
    "     modulus:    9,\n",
    "     multiplier: 2,\n",
    "     increment:  0\n",
    "  ]\n",
    "\n",
    "  def f(p) do\n",
    "    m = p.modulus\n",
    "    a = p.multiplier\n",
    "    c = p.increment\n",
    "    fn (seed) ->\n",
    "      Integer.mod(a * seed + c, m)\n",
    "    end\n",
    " end\n",
    "end"
   ]
  },
  {
   "cell_type": "code",
   "execution_count": 28,
   "metadata": {
    "collapsed": false
   },
   "outputs": [
    {
     "data": {
      "text/plain": [
       "%Generator.LCG{increment: 0, modulus: 9, multiplier: 2}"
      ]
     },
     "execution_count": 28,
     "metadata": {},
     "output_type": "execute_result"
    }
   ],
   "source": [
    "%Generator.LCG{}"
   ]
  },
  {
   "cell_type": "code",
   "execution_count": 29,
   "metadata": {
    "collapsed": false
   },
   "outputs": [
    {
     "data": {
      "text/plain": [
       "8"
      ]
     },
     "execution_count": 29,
     "metadata": {},
     "output_type": "execute_result"
    }
   ],
   "source": [
    "p = %Generator.LCG{}\n",
    "h = Generator.LCG.f(p)\n",
    "h.(h.(h.(1)))"
   ]
  },
  {
   "cell_type": "markdown",
   "metadata": {},
   "source": [
    "## Version IV"
   ]
  },
  {
   "cell_type": "code",
   "execution_count": 30,
   "metadata": {
    "collapsed": false
   },
   "outputs": [
    {
     "data": {
      "text/plain": [
       "{:module, Generator.LCG, <<70, 79, 82, 49, 0, 0, 6, 96, 66, 69, 65, 77, 65, 116, 85, 56, 0, 0, 0, 206, 0, 0, 0, 23, 20, 69, 108, 105, 120, 105, 114, 46, 71, 101, 110, 101, 114, 97, 116, 111, 114, 46, 76, 67, 71, 8, 95, ...>>, {:f, 1}}"
      ]
     },
     "execution_count": 30,
     "metadata": {},
     "output_type": "execute_result"
    }
   ],
   "source": [
    "defmodule Generator.LCG do\n",
    "  defmodule Parameters do\n",
    "    defstruct [\n",
    "       modulus:    9,\n",
    "       multiplier: 2,\n",
    "       increment:  0\n",
    "    ]\n",
    "\n",
    "    def okay?(p) do\n",
    "      m = p.modulus\n",
    "      a = p.multiplier\n",
    "      c = p.increment\n",
    "      \n",
    "      x = 0 < m\n",
    "      y = (0 < a and a < m)\n",
    "      z = (0 <= c and c < m)\n",
    "\n",
    "      x and y and z\n",
    "    end\n",
    "  end\n",
    "\n",
    "  def f(p) do\n",
    "    m = p.modulus\n",
    "    a = p.multiplier\n",
    "    c = p.increment\n",
    "    fn (seed) ->\n",
    "      Integer.mod(a * seed + c, m)\n",
    "    end\n",
    " end\n",
    "end"
   ]
  },
  {
   "cell_type": "code",
   "execution_count": 31,
   "metadata": {
    "collapsed": false
   },
   "outputs": [
    {
     "data": {
      "text/plain": [
       "8"
      ]
     },
     "execution_count": 31,
     "metadata": {},
     "output_type": "execute_result"
    }
   ],
   "source": [
    "p = %Generator.LCG.Parameters{increment: 0, modulus: 9, multiplier: 2}\n",
    "h = Generator.LCG.f(p)\n",
    "h.(h.(h.(1)))"
   ]
  },
  {
   "cell_type": "markdown",
   "metadata": {},
   "source": [
    "## Aside: Module Nesting & Name-spacing"
   ]
  },
  {
   "cell_type": "code",
   "execution_count": 32,
   "metadata": {
    "collapsed": false
   },
   "outputs": [
    {
     "data": {
      "text/plain": [
       "{:module, M, <<70, 79, 82, 49, 0, 0, 4, 0, 66, 69, 65, 77, 65, 116, 85, 56, 0, 0, 0, 128, 0, 0, 0, 14, 8, 69, 108, 105, 120, 105, 114, 46, 77, 8, 95, 95, 105, 110, 102, 111, 95, 95, 9, 102, 117, 110, 99, ...>>, {:f, 0}}"
      ]
     },
     "execution_count": 32,
     "metadata": {},
     "output_type": "execute_result"
    }
   ],
   "source": [
    "defmodule M do\n",
    "  defmodule N do\n",
    "    def f do\n",
    "      \"I'm in M.N!\"\n",
    "    end\n",
    "  end\n",
    "  def f do\n",
    "    N.f()\n",
    "  end\n",
    "end"
   ]
  },
  {
   "cell_type": "code",
   "execution_count": 33,
   "metadata": {
    "collapsed": false
   },
   "outputs": [
    {
     "data": {
      "text/plain": [
       "\"I'm in M.N!\""
      ]
     },
     "execution_count": 33,
     "metadata": {},
     "output_type": "execute_result"
    }
   ],
   "source": [
    "M.f()"
   ]
  },
  {
   "cell_type": "markdown",
   "metadata": {},
   "source": [
    "---"
   ]
  },
  {
   "cell_type": "markdown",
   "metadata": {},
   "source": [
    "## Version V"
   ]
  },
  {
   "cell_type": "code",
   "execution_count": 34,
   "metadata": {
    "collapsed": false
   },
   "outputs": [
    {
     "data": {
      "text/plain": [
       "true"
      ]
     },
     "execution_count": 34,
     "metadata": {},
     "output_type": "execute_result"
    }
   ],
   "source": [
    "Generator.LCG.Parameters.okay?(p)"
   ]
  },
  {
   "cell_type": "code",
   "execution_count": 35,
   "metadata": {
    "collapsed": false
   },
   "outputs": [
    {
     "data": {
      "text/plain": [
       "{:module, Generator.LCG, <<70, 79, 82, 49, 0, 0, 6, 224, 66, 69, 65, 77, 65, 116, 85, 56, 0, 0, 0, 236, 0, 0, 0, 24, 20, 69, 108, 105, 120, 105, 114, 46, 71, 101, 110, 101, 114, 97, 116, 111, 114, 46, 76, 67, 71, 8, 95, ...>>, {:instance, 1}}"
      ]
     },
     "execution_count": 35,
     "metadata": {},
     "output_type": "execute_result"
    }
   ],
   "source": [
    "defmodule Generator.LCG do\n",
    "  defmodule Parameters do\n",
    "    defstruct [\n",
    "       modulus:    9,\n",
    "       multiplier: 2,\n",
    "       increment:  0\n",
    "    ]\n",
    "\n",
    "    def okay?(p) do\n",
    "      m = p.modulus\n",
    "      a = p.multiplier\n",
    "      c = p.increment\n",
    "      \n",
    "      x = 0 < m\n",
    "      y = (0 < a and a < m)\n",
    "      z = (0 <= c and c < m)\n",
    "\n",
    "      x and y and z\n",
    "    end\n",
    "  end\n",
    "\n",
    "  def instance(p) do\n",
    "    m = p.modulus\n",
    "    a = p.multiplier\n",
    "    c = p.increment\n",
    "    fn (seed) when seed >= 0 and seed < m ->\n",
    "      Integer.mod(a * seed + c, m)\n",
    "    end\n",
    " end\n",
    "end"
   ]
  },
  {
   "cell_type": "code",
   "execution_count": 36,
   "metadata": {
    "collapsed": false
   },
   "outputs": [
    {
     "data": {
      "text/plain": [
       "#Function<0.18101733/1 in Generator.LCG.instance/1>"
      ]
     },
     "execution_count": 36,
     "metadata": {},
     "output_type": "execute_result"
    }
   ],
   "source": [
    "x = %Generator.LCG.Parameters{\n",
    "  modulus:    9,\n",
    "  multiplier: 2,\n",
    "  increment:  0\n",
    "}\n",
    "true = Generator.LCG.Parameters.okay?(x)\n",
    "f = Generator.LCG.instance(x)"
   ]
  },
  {
   "cell_type": "code",
   "execution_count": 37,
   "metadata": {
    "collapsed": false
   },
   "outputs": [
    {
     "data": {
      "text/plain": [
       "2"
      ]
     },
     "execution_count": 37,
     "metadata": {},
     "output_type": "execute_result"
    }
   ],
   "source": [
    "f.(1)"
   ]
  },
  {
   "cell_type": "code",
   "execution_count": 38,
   "metadata": {
    "collapsed": false
   },
   "outputs": [
    {
     "ename": "FunctionClauseError",
     "evalue": "1",
     "output_type": "error",
     "traceback": [
      "** %FunctionClauseError{args: nil, arity: 1, clauses: nil, function: :\"-instance/1-fun-0-\", kind: nil, module: Generator.LCG}"
     ]
    }
   ],
   "source": [
    "f.(-1)"
   ]
  },
  {
   "cell_type": "markdown",
   "metadata": {},
   "source": [
    "## Aside: Guard Clauses"
   ]
  },
  {
   "cell_type": "code",
   "execution_count": 38,
   "metadata": {
    "collapsed": false
   },
   "outputs": [
    {
     "data": {
      "text/plain": [
       "{:module, G, <<70, 79, 82, 49, 0, 0, 5, 96, 66, 69, 65, 77, 65, 116, 85, 56, 0, 0, 0, 150, 0, 0, 0, 16, 8, 69, 108, 105, 120, 105, 114, 46, 71, 8, 95, 95, 105, 110, 102, 111, 95, 95, 9, 102, 117, 110, 99, ...>>, {:_compare, 2}}"
      ]
     },
     "execution_count": 38,
     "metadata": {},
     "output_type": "execute_result"
    }
   ],
   "source": [
    "defmodule G do\n",
    "  def compare(x, y) when x < y do\n",
    "    -1\n",
    "  end\n",
    "  def compare(x, y) when x === y do\n",
    "    0\n",
    "  end\n",
    "  def compare(x, y) when x > y do\n",
    "    +1\n",
    "  end\n",
    "\n",
    "  def _compare(x, y) do\n",
    "    cond do\n",
    "      x < y ->\n",
    "        -1\n",
    "      x == y ->\n",
    "        0\n",
    "      x > y ->\n",
    "        +1\n",
    "    end\n",
    "  end\n",
    "end"
   ]
  },
  {
   "cell_type": "code",
   "execution_count": 39,
   "metadata": {
    "collapsed": false
   },
   "outputs": [
    {
     "data": {
      "text/plain": [
       "true"
      ]
     },
     "execution_count": 39,
     "metadata": {},
     "output_type": "execute_result"
    }
   ],
   "source": [
    "a = G.compare(1, 2) === -1; b = G._compare(1, 2) === -1\n",
    "a and b"
   ]
  },
  {
   "cell_type": "markdown",
   "metadata": {},
   "source": [
    "---"
   ]
  },
  {
   "cell_type": "code",
   "execution_count": 40,
   "metadata": {
    "collapsed": false
   },
   "outputs": [
    {
     "data": {
      "text/plain": [
       "\"Oops!\""
      ]
     },
     "execution_count": 40,
     "metadata": {},
     "output_type": "execute_result"
    }
   ],
   "source": [
    "try do\n",
    "  f.(16)\n",
    "rescue\n",
    "  FunctionClauseError ->\n",
    "    \"Oops!\"\n",
    "end"
   ]
  },
  {
   "cell_type": "code",
   "execution_count": 41,
   "metadata": {
    "collapsed": false
   },
   "outputs": [
    {
     "data": {
      "text/plain": [
       "{:module, M, <<70, 79, 82, 49, 0, 0, 3, 240, 66, 69, 65, 77, 65, 116, 85, 56, 0, 0, 0, 121, 0, 0, 0, 14, 8, 69, 108, 105, 120, 105, 114, 46, 77, 8, 95, 95, 105, 110, 102, 111, 95, 95, 9, 102, 117, 110, 99, ...>>, {:f, 1}}"
      ]
     },
     "execution_count": 41,
     "metadata": {},
     "output_type": "execute_result"
    }
   ],
   "source": [
    "defmodule M do\n",
    "  def f(_) do\n",
    "    nil\n",
    "  end\n",
    "end"
   ]
  },
  {
   "cell_type": "markdown",
   "metadata": {},
   "source": [
    "## Summary\n",
    "\n",
    "- **[LS]** The shell, `IEx`, is a good place to wrap our head around what we're doing\n",
    "- **[FP]** Elixir, like many modern languages, provides a literal for building functions.\n",
    "  This is the `fn [parameter...] -> [expression...] end` form.\n",
    "  We've seen the capture operator `&` which has a similar effect\n",
    "- **[FP]** If a variable defined outside a function literal is used inside it then the function literal pulls in the variable's value.\n",
    "  This is called closure\n",
    "- **[FP]** In our case we build generators (just a function) that keep a hold of their parameters (the multiplier, increment, and modulus) and take one argument.\n",
    "  You can think of the function `Generator.LCG.instance/1` as a factory\n",
    "- **[SE]** We then introduce structures to make explicit and crystal clear exactly what the parameters are.\n",
    "  This doesn't rely on the caller to give meaningful variable names\n",
    "- **[SE]** We went further to wrap the structure in a module of its own.\n",
    "  This way we exploit Elixir's name-space to spell out exactly what it is that we pass into our \"factory\" `instance/1`.\n",
    "  This isn't special to functional programming: writing declaritive code is about naming.\n",
    "- **[SE]** In version V, the presence of a `Parameters` module meant that we knew where to focus our effort when writing `okay?`.\n",
    "  Imagine the effect this can have on a much larger codebase.\n",
    "  An engineer can come along an know exactly where to write or modify a piece of code\n",
    "- **[LS]** It's common to use function clauses and guards in Elixir.\n",
    "\n",
    "Prefixes:\n",
    "\n",
    "- **LS**: language specific\n",
    "- **FP**: functional programming\n",
    "- **SE**: software engineer"
   ]
  },
  {
   "cell_type": "code",
   "execution_count": null,
   "metadata": {
    "collapsed": true
   },
   "outputs": [],
   "source": []
  }
 ],
 "metadata": {
  "kernelspec": {
   "display_name": "Elixir",
   "language": "Elixir",
   "name": "ielixir"
  },
  "language_info": {
   "codemirror_mode": "elixir",
   "file_extension": "ex",
   "mimetype": "text/x-elixir",
   "name": "elixir",
   "nbconvert_exporter": "",
   "pygments_lexer": "elixir",
   "version": "#Version<1.6.2>"
  }
 },
 "nbformat": 4,
 "nbformat_minor": 1
}
